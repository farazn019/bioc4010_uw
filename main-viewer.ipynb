{
 "cells": [
  {
   "cell_type": "markdown",
   "metadata": {},
   "source": [
    "# Bioinformatics Platform using JupyterLab\n",
    "\n",
    "Author: Robert Bradford\n",
    "\n",
    "This is a thesis project using JupyterLab to facilitate the study of BIOC-4010 course. This tutorial implements the following basic modules using Biopython, NGLView。\n",
    "1. BLAST\n",
    "2. Display a 3D structure\n",
    "\n",
    "Requirements:\n",
    "\n",
    "To run this notebook successfully, it is recommended to use Miniconda + JupyterLab and install the  required packages and extensions. The notebook shall also work on [Google Colab](https://colab.research.google.com/) or [Binder](https://jupyter.org/binder) but this has not been tested.\n",
    "\n",
    "The following packages are required and can installed using conda. It is recommended to create a new environment and install these packages. You can use the [nglview-jupyterlab.sh script](https://github.com/nglviewer/nglview/blob/master/devtools/nglview-jupyterlab.sh) to install the nglview related packages.\n",
    "* python 3.8+\n",
    "* jupyterlab 2.1+\n",
    "* biopython 1.7+\n",
    "* ipywidgets 7.5+\n",
    "* nodejs 12.0.0+, required for the jupyter-labextensions\n",
    "* nglview 2.7+\n",
    "    * if you do not use the nglview-jupyterlab.sh script, run the following two commands manually after you install jupyterlab\n",
    "    * `jupyter-labextension install @jupyter-widgets/jupyterlab-manager`\n",
    "    * `jupyter-labextension install nglview-js-widgets@$nglviewversion` where `$nglviewversion` is the version of the `nglview` installed package, which can be inspected with `conda list nglview`.\n",
    "    \n",
    "\n",
    "This notebook has been test on:\n",
    "1. miniconda3\n",
    "2. "
   ]
  },
  {
   "cell_type": "code",
   "execution_count": 1,
   "metadata": {},
   "outputs": [
    {
     "name": "stdout",
     "output_type": "stream",
     "text": [
      "Requirement already satisfied: jupyterlab in /home/faraznaseem/.local/lib/python3.8/site-packages (3.0.16)\n",
      "Requirement already satisfied: jupyter-core in /home/faraznaseem/.local/lib/python3.8/site-packages (from jupyterlab) (4.7.1)\n",
      "Requirement already satisfied: jinja2>=2.1 in /home/faraznaseem/.local/lib/python3.8/site-packages (from jupyterlab) (2.11.3)\n",
      "Requirement already satisfied: packaging in /home/faraznaseem/.local/lib/python3.8/site-packages (from jupyterlab) (20.9)\n",
      "Requirement already satisfied: ipython in /home/faraznaseem/.local/lib/python3.8/site-packages (from jupyterlab) (7.23.1)\n",
      "Requirement already satisfied: tornado>=6.1.0 in /home/faraznaseem/.local/lib/python3.8/site-packages (from jupyterlab) (6.1)\n",
      "Requirement already satisfied: jupyter-server~=1.4 in /home/faraznaseem/.local/lib/python3.8/site-packages (from jupyterlab) (1.8.0)\n",
      "Requirement already satisfied: nbclassic~=0.2 in /home/faraznaseem/.local/lib/python3.8/site-packages (from jupyterlab) (0.3.1)\n",
      "Requirement already satisfied: jupyterlab-server~=2.3 in /home/faraznaseem/.local/lib/python3.8/site-packages (from jupyterlab) (2.5.2)\n",
      "Requirement already satisfied: MarkupSafe>=0.23 in /home/faraznaseem/anaconda3/lib/python3.8/site-packages (from jinja2>=2.1->jupyterlab) (1.1.1)\n",
      "Requirement already satisfied: terminado>=0.8.3 in /home/faraznaseem/.local/lib/python3.8/site-packages (from jupyter-server~=1.4->jupyterlab) (0.10.0)\n",
      "Requirement already satisfied: pyzmq>=17 in /home/faraznaseem/.local/lib/python3.8/site-packages (from jupyter-server~=1.4->jupyterlab) (22.1.0)\n",
      "Requirement already satisfied: anyio<4,>=3.1.0 in /home/faraznaseem/.local/lib/python3.8/site-packages (from jupyter-server~=1.4->jupyterlab) (3.1.0)\n",
      "Requirement already satisfied: websocket-client in /home/faraznaseem/anaconda3/lib/python3.8/site-packages (from jupyter-server~=1.4->jupyterlab) (1.0.1)\n",
      "Requirement already satisfied: argon2-cffi in /home/faraznaseem/.local/lib/python3.8/site-packages (from jupyter-server~=1.4->jupyterlab) (20.1.0)\n",
      "Requirement already satisfied: nbformat in /home/faraznaseem/.local/lib/python3.8/site-packages (from jupyter-server~=1.4->jupyterlab) (5.1.3)\n",
      "Requirement already satisfied: traitlets>=4.2.1 in /home/faraznaseem/.local/lib/python3.8/site-packages (from jupyter-server~=1.4->jupyterlab) (5.0.5)\n",
      "Requirement already satisfied: jupyter-client>=6.1.1 in /home/faraznaseem/.local/lib/python3.8/site-packages (from jupyter-server~=1.4->jupyterlab) (6.1.12)\n",
      "Requirement already satisfied: nbconvert in /home/faraznaseem/.local/lib/python3.8/site-packages (from jupyter-server~=1.4->jupyterlab) (5.6.1)\n",
      "Requirement already satisfied: Send2Trash in /home/faraznaseem/.local/lib/python3.8/site-packages (from jupyter-server~=1.4->jupyterlab) (1.5.0)\n",
      "Requirement already satisfied: ipython-genutils in /home/faraznaseem/.local/lib/python3.8/site-packages (from jupyter-server~=1.4->jupyterlab) (0.2.0)\n",
      "Requirement already satisfied: prometheus-client in /home/faraznaseem/.local/lib/python3.8/site-packages (from jupyter-server~=1.4->jupyterlab) (0.10.1)\n",
      "Requirement already satisfied: sniffio>=1.1 in /home/faraznaseem/.local/lib/python3.8/site-packages (from anyio<4,>=3.1.0->jupyter-server~=1.4->jupyterlab) (1.2.0)\n",
      "Requirement already satisfied: idna>=2.8 in /home/faraznaseem/.local/lib/python3.8/site-packages (from anyio<4,>=3.1.0->jupyter-server~=1.4->jupyterlab) (2.10)\n",
      "Requirement already satisfied: python-dateutil>=2.1 in /home/faraznaseem/anaconda3/lib/python3.8/site-packages (from jupyter-client>=6.1.1->jupyter-server~=1.4->jupyterlab) (2.8.1)\n",
      "Requirement already satisfied: json5 in /home/faraznaseem/.local/lib/python3.8/site-packages (from jupyterlab-server~=2.3->jupyterlab) (0.9.5)\n",
      "Requirement already satisfied: requests in /home/faraznaseem/.local/lib/python3.8/site-packages (from jupyterlab-server~=2.3->jupyterlab) (2.25.1)\n",
      "Requirement already satisfied: babel in /home/faraznaseem/.local/lib/python3.8/site-packages (from jupyterlab-server~=2.3->jupyterlab) (2.9.1)\n",
      "Requirement already satisfied: jsonschema>=3.0.1 in /home/faraznaseem/anaconda3/lib/python3.8/site-packages (from jupyterlab-server~=2.3->jupyterlab) (3.2.0)\n",
      "Requirement already satisfied: setuptools in /home/faraznaseem/anaconda3/lib/python3.8/site-packages (from jsonschema>=3.0.1->jupyterlab-server~=2.3->jupyterlab) (52.0.0.post20210125)\n",
      "Requirement already satisfied: pyrsistent>=0.14.0 in /home/faraznaseem/anaconda3/lib/python3.8/site-packages (from jsonschema>=3.0.1->jupyterlab-server~=2.3->jupyterlab) (0.17.3)\n",
      "Requirement already satisfied: attrs>=17.4.0 in /home/faraznaseem/.local/lib/python3.8/site-packages (from jsonschema>=3.0.1->jupyterlab-server~=2.3->jupyterlab) (21.2.0)\n",
      "Requirement already satisfied: six>=1.11.0 in /home/faraznaseem/anaconda3/lib/python3.8/site-packages (from jsonschema>=3.0.1->jupyterlab-server~=2.3->jupyterlab) (1.15.0)\n",
      "Requirement already satisfied: notebook<7 in /home/faraznaseem/.local/lib/python3.8/site-packages (from nbclassic~=0.2->jupyterlab) (6.4.0)\n",
      "Requirement already satisfied: ipykernel in /home/faraznaseem/.local/lib/python3.8/site-packages (from notebook<7->nbclassic~=0.2->jupyterlab) (5.5.5)\n",
      "Requirement already satisfied: ptyprocess in /home/faraznaseem/.local/lib/python3.8/site-packages (from terminado>=0.8.3->jupyter-server~=1.4->jupyterlab) (0.7.0)\n",
      "Requirement already satisfied: cffi>=1.0.0 in /home/faraznaseem/anaconda3/lib/python3.8/site-packages (from argon2-cffi->jupyter-server~=1.4->jupyterlab) (1.14.5)\n",
      "Requirement already satisfied: pycparser in /home/faraznaseem/anaconda3/lib/python3.8/site-packages (from cffi>=1.0.0->argon2-cffi->jupyter-server~=1.4->jupyterlab) (2.20)\n",
      "Requirement already satisfied: pytz>=2015.7 in /home/faraznaseem/anaconda3/lib/python3.8/site-packages (from babel->jupyterlab-server~=2.3->jupyterlab) (2021.1)\n",
      "Requirement already satisfied: decorator in /home/faraznaseem/.local/lib/python3.8/site-packages (from ipython->jupyterlab) (5.0.9)\n",
      "Requirement already satisfied: backcall in /home/faraznaseem/.local/lib/python3.8/site-packages (from ipython->jupyterlab) (0.2.0)\n",
      "Requirement already satisfied: prompt-toolkit!=3.0.0,!=3.0.1,<3.1.0,>=2.0.0 in /home/faraznaseem/.local/lib/python3.8/site-packages (from ipython->jupyterlab) (3.0.18)\n",
      "Requirement already satisfied: matplotlib-inline in /home/faraznaseem/.local/lib/python3.8/site-packages (from ipython->jupyterlab) (0.1.2)\n",
      "Requirement already satisfied: pexpect>4.3 in /home/faraznaseem/anaconda3/lib/python3.8/site-packages (from ipython->jupyterlab) (4.8.0)\n",
      "Requirement already satisfied: pickleshare in /home/faraznaseem/.local/lib/python3.8/site-packages (from ipython->jupyterlab) (0.7.5)\n",
      "Requirement already satisfied: jedi>=0.16 in /home/faraznaseem/.local/lib/python3.8/site-packages (from ipython->jupyterlab) (0.18.0)\n",
      "Requirement already satisfied: pygments in /home/faraznaseem/anaconda3/lib/python3.8/site-packages (from ipython->jupyterlab) (2.8.1)\n",
      "Requirement already satisfied: parso<0.9.0,>=0.8.0 in /home/faraznaseem/.local/lib/python3.8/site-packages (from jedi>=0.16->ipython->jupyterlab) (0.8.2)\n",
      "Requirement already satisfied: wcwidth in /home/faraznaseem/.local/lib/python3.8/site-packages (from prompt-toolkit!=3.0.0,!=3.0.1,<3.1.0,>=2.0.0->ipython->jupyterlab) (0.2.5)\n",
      "Requirement already satisfied: pandocfilters>=1.4.1 in /home/faraznaseem/.local/lib/python3.8/site-packages (from nbconvert->jupyter-server~=1.4->jupyterlab) (1.4.3)\n",
      "Requirement already satisfied: bleach in /home/faraznaseem/.local/lib/python3.8/site-packages (from nbconvert->jupyter-server~=1.4->jupyterlab) (3.3.0)\n",
      "Requirement already satisfied: mistune<2,>=0.8.1 in /home/faraznaseem/.local/lib/python3.8/site-packages (from nbconvert->jupyter-server~=1.4->jupyterlab) (0.8.4)\n",
      "Requirement already satisfied: testpath in /home/faraznaseem/.local/lib/python3.8/site-packages (from nbconvert->jupyter-server~=1.4->jupyterlab) (0.5.0)\n",
      "Requirement already satisfied: entrypoints>=0.2.2 in /home/faraznaseem/anaconda3/lib/python3.8/site-packages (from nbconvert->jupyter-server~=1.4->jupyterlab) (0.3)\n",
      "Requirement already satisfied: defusedxml in /home/faraznaseem/.local/lib/python3.8/site-packages (from nbconvert->jupyter-server~=1.4->jupyterlab) (0.7.1)\n",
      "Requirement already satisfied: webencodings in /home/faraznaseem/.local/lib/python3.8/site-packages (from bleach->nbconvert->jupyter-server~=1.4->jupyterlab) (0.5.1)\n",
      "Requirement already satisfied: pyparsing>=2.0.2 in /home/faraznaseem/.local/lib/python3.8/site-packages (from packaging->jupyterlab) (2.4.7)\n"
     ]
    },
    {
     "name": "stdout",
     "output_type": "stream",
     "text": [
      "Requirement already satisfied: certifi>=2017.4.17 in /home/faraznaseem/anaconda3/lib/python3.8/site-packages (from requests->jupyterlab-server~=2.3->jupyterlab) (2020.12.5)\n",
      "Requirement already satisfied: urllib3<1.27,>=1.21.1 in /home/faraznaseem/.local/lib/python3.8/site-packages (from requests->jupyterlab-server~=2.3->jupyterlab) (1.23)\n",
      "Requirement already satisfied: chardet<5,>=3.0.2 in /home/faraznaseem/anaconda3/lib/python3.8/site-packages (from requests->jupyterlab-server~=2.3->jupyterlab) (4.0.0)\n",
      "Requirement already satisfied: biopython in /home/faraznaseem/.local/lib/python3.8/site-packages (1.78)\n",
      "Requirement already satisfied: numpy in /home/faraznaseem/anaconda3/lib/python3.8/site-packages (from biopython) (1.20.3)\n",
      "Requirement already satisfied: ipywidgets in /home/faraznaseem/.local/lib/python3.8/site-packages (7.6.3)\n",
      "Requirement already satisfied: widgetsnbextension~=3.5.0 in /home/faraznaseem/.local/lib/python3.8/site-packages (from ipywidgets) (3.5.1)\n",
      "Requirement already satisfied: ipykernel>=4.5.1 in /home/faraznaseem/.local/lib/python3.8/site-packages (from ipywidgets) (5.5.5)\n",
      "Requirement already satisfied: nbformat>=4.2.0 in /home/faraznaseem/.local/lib/python3.8/site-packages (from ipywidgets) (5.1.3)\n",
      "Requirement already satisfied: jupyterlab-widgets>=1.0.0 in /home/faraznaseem/.local/lib/python3.8/site-packages (from ipywidgets) (1.0.0)\n",
      "Requirement already satisfied: traitlets>=4.3.1 in /home/faraznaseem/.local/lib/python3.8/site-packages (from ipywidgets) (5.0.5)\n",
      "Requirement already satisfied: ipython>=4.0.0 in /home/faraznaseem/.local/lib/python3.8/site-packages (from ipywidgets) (7.23.1)\n",
      "Requirement already satisfied: tornado>=4.2 in /home/faraznaseem/.local/lib/python3.8/site-packages (from ipykernel>=4.5.1->ipywidgets) (6.1)\n",
      "Requirement already satisfied: jupyter-client in /home/faraznaseem/.local/lib/python3.8/site-packages (from ipykernel>=4.5.1->ipywidgets) (6.1.12)\n",
      "Requirement already satisfied: pexpect>4.3 in /home/faraznaseem/anaconda3/lib/python3.8/site-packages (from ipython>=4.0.0->ipywidgets) (4.8.0)\n",
      "Requirement already satisfied: backcall in /home/faraznaseem/.local/lib/python3.8/site-packages (from ipython>=4.0.0->ipywidgets) (0.2.0)\n",
      "Requirement already satisfied: pygments in /home/faraznaseem/anaconda3/lib/python3.8/site-packages (from ipython>=4.0.0->ipywidgets) (2.8.1)\n",
      "Requirement already satisfied: setuptools>=18.5 in /home/faraznaseem/anaconda3/lib/python3.8/site-packages (from ipython>=4.0.0->ipywidgets) (52.0.0.post20210125)\n",
      "Requirement already satisfied: decorator in /home/faraznaseem/.local/lib/python3.8/site-packages (from ipython>=4.0.0->ipywidgets) (5.0.9)\n",
      "Requirement already satisfied: pickleshare in /home/faraznaseem/.local/lib/python3.8/site-packages (from ipython>=4.0.0->ipywidgets) (0.7.5)\n",
      "Requirement already satisfied: jedi>=0.16 in /home/faraznaseem/.local/lib/python3.8/site-packages (from ipython>=4.0.0->ipywidgets) (0.18.0)\n",
      "Requirement already satisfied: prompt-toolkit!=3.0.0,!=3.0.1,<3.1.0,>=2.0.0 in /home/faraznaseem/.local/lib/python3.8/site-packages (from ipython>=4.0.0->ipywidgets) (3.0.18)\n",
      "Requirement already satisfied: matplotlib-inline in /home/faraznaseem/.local/lib/python3.8/site-packages (from ipython>=4.0.0->ipywidgets) (0.1.2)\n",
      "Requirement already satisfied: parso<0.9.0,>=0.8.0 in /home/faraznaseem/.local/lib/python3.8/site-packages (from jedi>=0.16->ipython>=4.0.0->ipywidgets) (0.8.2)\n",
      "Requirement already satisfied: ipython-genutils in /home/faraznaseem/.local/lib/python3.8/site-packages (from nbformat>=4.2.0->ipywidgets) (0.2.0)\n",
      "Requirement already satisfied: jsonschema!=2.5.0,>=2.4 in /home/faraznaseem/anaconda3/lib/python3.8/site-packages (from nbformat>=4.2.0->ipywidgets) (3.2.0)\n",
      "Requirement already satisfied: jupyter-core in /home/faraznaseem/.local/lib/python3.8/site-packages (from nbformat>=4.2.0->ipywidgets) (4.7.1)\n",
      "Requirement already satisfied: pyrsistent>=0.14.0 in /home/faraznaseem/anaconda3/lib/python3.8/site-packages (from jsonschema!=2.5.0,>=2.4->nbformat>=4.2.0->ipywidgets) (0.17.3)\n",
      "Requirement already satisfied: attrs>=17.4.0 in /home/faraznaseem/.local/lib/python3.8/site-packages (from jsonschema!=2.5.0,>=2.4->nbformat>=4.2.0->ipywidgets) (21.2.0)\n",
      "Requirement already satisfied: six>=1.11.0 in /home/faraznaseem/anaconda3/lib/python3.8/site-packages (from jsonschema!=2.5.0,>=2.4->nbformat>=4.2.0->ipywidgets) (1.15.0)\n",
      "Requirement already satisfied: ptyprocess>=0.5 in /home/faraznaseem/.local/lib/python3.8/site-packages (from pexpect>4.3->ipython>=4.0.0->ipywidgets) (0.7.0)\n",
      "Requirement already satisfied: wcwidth in /home/faraznaseem/.local/lib/python3.8/site-packages (from prompt-toolkit!=3.0.0,!=3.0.1,<3.1.0,>=2.0.0->ipython>=4.0.0->ipywidgets) (0.2.5)\n",
      "Requirement already satisfied: notebook>=4.4.1 in /home/faraznaseem/.local/lib/python3.8/site-packages (from widgetsnbextension~=3.5.0->ipywidgets) (6.4.0)\n",
      "Requirement already satisfied: nbconvert in /home/faraznaseem/.local/lib/python3.8/site-packages (from notebook>=4.4.1->widgetsnbextension~=3.5.0->ipywidgets) (5.6.1)\n",
      "Requirement already satisfied: argon2-cffi in /home/faraznaseem/.local/lib/python3.8/site-packages (from notebook>=4.4.1->widgetsnbextension~=3.5.0->ipywidgets) (20.1.0)\n",
      "Requirement already satisfied: pyzmq>=17 in /home/faraznaseem/.local/lib/python3.8/site-packages (from notebook>=4.4.1->widgetsnbextension~=3.5.0->ipywidgets) (22.1.0)\n",
      "Requirement already satisfied: prometheus-client in /home/faraznaseem/.local/lib/python3.8/site-packages (from notebook>=4.4.1->widgetsnbextension~=3.5.0->ipywidgets) (0.10.1)\n",
      "Requirement already satisfied: jinja2 in /home/faraznaseem/.local/lib/python3.8/site-packages (from notebook>=4.4.1->widgetsnbextension~=3.5.0->ipywidgets) (2.11.3)\n",
      "Requirement already satisfied: terminado>=0.8.3 in /home/faraznaseem/.local/lib/python3.8/site-packages (from notebook>=4.4.1->widgetsnbextension~=3.5.0->ipywidgets) (0.10.0)\n",
      "Requirement already satisfied: Send2Trash>=1.5.0 in /home/faraznaseem/.local/lib/python3.8/site-packages (from notebook>=4.4.1->widgetsnbextension~=3.5.0->ipywidgets) (1.5.0)\n",
      "Requirement already satisfied: python-dateutil>=2.1 in /home/faraznaseem/anaconda3/lib/python3.8/site-packages (from jupyter-client->ipykernel>=4.5.1->ipywidgets) (2.8.1)\n",
      "Requirement already satisfied: cffi>=1.0.0 in /home/faraznaseem/anaconda3/lib/python3.8/site-packages (from argon2-cffi->notebook>=4.4.1->widgetsnbextension~=3.5.0->ipywidgets) (1.14.5)\n",
      "Requirement already satisfied: pycparser in /home/faraznaseem/anaconda3/lib/python3.8/site-packages (from cffi>=1.0.0->argon2-cffi->notebook>=4.4.1->widgetsnbextension~=3.5.0->ipywidgets) (2.20)\n",
      "Requirement already satisfied: MarkupSafe>=0.23 in /home/faraznaseem/anaconda3/lib/python3.8/site-packages (from jinja2->notebook>=4.4.1->widgetsnbextension~=3.5.0->ipywidgets) (1.1.1)\n",
      "Requirement already satisfied: entrypoints>=0.2.2 in /home/faraznaseem/anaconda3/lib/python3.8/site-packages (from nbconvert->notebook>=4.4.1->widgetsnbextension~=3.5.0->ipywidgets) (0.3)\n",
      "Requirement already satisfied: testpath in /home/faraznaseem/.local/lib/python3.8/site-packages (from nbconvert->notebook>=4.4.1->widgetsnbextension~=3.5.0->ipywidgets) (0.5.0)\n",
      "Requirement already satisfied: pandocfilters>=1.4.1 in /home/faraznaseem/.local/lib/python3.8/site-packages (from nbconvert->notebook>=4.4.1->widgetsnbextension~=3.5.0->ipywidgets) (1.4.3)\n",
      "Requirement already satisfied: mistune<2,>=0.8.1 in /home/faraznaseem/.local/lib/python3.8/site-packages (from nbconvert->notebook>=4.4.1->widgetsnbextension~=3.5.0->ipywidgets) (0.8.4)\n",
      "Requirement already satisfied: defusedxml in /home/faraznaseem/.local/lib/python3.8/site-packages (from nbconvert->notebook>=4.4.1->widgetsnbextension~=3.5.0->ipywidgets) (0.7.1)\n",
      "Requirement already satisfied: bleach in /home/faraznaseem/.local/lib/python3.8/site-packages (from nbconvert->notebook>=4.4.1->widgetsnbextension~=3.5.0->ipywidgets) (3.3.0)\n",
      "Requirement already satisfied: webencodings in /home/faraznaseem/.local/lib/python3.8/site-packages (from bleach->nbconvert->notebook>=4.4.1->widgetsnbextension~=3.5.0->ipywidgets) (0.5.1)\n",
      "Requirement already satisfied: packaging in /home/faraznaseem/.local/lib/python3.8/site-packages (from bleach->nbconvert->notebook>=4.4.1->widgetsnbextension~=3.5.0->ipywidgets) (20.9)\n",
      "Requirement already satisfied: pyparsing>=2.0.2 in /home/faraznaseem/.local/lib/python3.8/site-packages (from packaging->bleach->nbconvert->notebook>=4.4.1->widgetsnbextension~=3.5.0->ipywidgets) (2.4.7)\n"
     ]
    },
    {
     "name": "stdout",
     "output_type": "stream",
     "text": [
      "Requirement already satisfied: nglview in /home/faraznaseem/anaconda3/lib/python3.8/site-packages (3.0.1)\n",
      "Requirement already satisfied: numpy in /home/faraznaseem/anaconda3/lib/python3.8/site-packages (from nglview) (1.20.3)\n",
      "Requirement already satisfied: jupyterlab-widgets in /home/faraznaseem/.local/lib/python3.8/site-packages (from nglview) (1.0.0)\n",
      "Requirement already satisfied: ipywidgets>=7 in /home/faraznaseem/.local/lib/python3.8/site-packages (from nglview) (7.6.3)\n",
      "Requirement already satisfied: traitlets>=4.3.1 in /home/faraznaseem/.local/lib/python3.8/site-packages (from ipywidgets>=7->nglview) (5.0.5)\n",
      "Requirement already satisfied: widgetsnbextension~=3.5.0 in /home/faraznaseem/.local/lib/python3.8/site-packages (from ipywidgets>=7->nglview) (3.5.1)\n",
      "Requirement already satisfied: ipykernel>=4.5.1 in /home/faraznaseem/.local/lib/python3.8/site-packages (from ipywidgets>=7->nglview) (5.5.5)\n",
      "Requirement already satisfied: ipython>=4.0.0 in /home/faraznaseem/.local/lib/python3.8/site-packages (from ipywidgets>=7->nglview) (7.23.1)\n",
      "Requirement already satisfied: nbformat>=4.2.0 in /home/faraznaseem/.local/lib/python3.8/site-packages (from ipywidgets>=7->nglview) (5.1.3)\n",
      "Requirement already satisfied: tornado>=4.2 in /home/faraznaseem/.local/lib/python3.8/site-packages (from ipykernel>=4.5.1->ipywidgets>=7->nglview) (6.1)\n",
      "Requirement already satisfied: jupyter-client in /home/faraznaseem/.local/lib/python3.8/site-packages (from ipykernel>=4.5.1->ipywidgets>=7->nglview) (6.1.12)\n",
      "Requirement already satisfied: pexpect>4.3 in /home/faraznaseem/anaconda3/lib/python3.8/site-packages (from ipython>=4.0.0->ipywidgets>=7->nglview) (4.8.0)\n",
      "Requirement already satisfied: pygments in /home/faraznaseem/anaconda3/lib/python3.8/site-packages (from ipython>=4.0.0->ipywidgets>=7->nglview) (2.8.1)\n",
      "Requirement already satisfied: setuptools>=18.5 in /home/faraznaseem/anaconda3/lib/python3.8/site-packages (from ipython>=4.0.0->ipywidgets>=7->nglview) (52.0.0.post20210125)\n",
      "Requirement already satisfied: matplotlib-inline in /home/faraznaseem/.local/lib/python3.8/site-packages (from ipython>=4.0.0->ipywidgets>=7->nglview) (0.1.2)\n",
      "Requirement already satisfied: prompt-toolkit!=3.0.0,!=3.0.1,<3.1.0,>=2.0.0 in /home/faraznaseem/.local/lib/python3.8/site-packages (from ipython>=4.0.0->ipywidgets>=7->nglview) (3.0.18)\n",
      "Requirement already satisfied: jedi>=0.16 in /home/faraznaseem/.local/lib/python3.8/site-packages (from ipython>=4.0.0->ipywidgets>=7->nglview) (0.18.0)\n",
      "Requirement already satisfied: pickleshare in /home/faraznaseem/.local/lib/python3.8/site-packages (from ipython>=4.0.0->ipywidgets>=7->nglview) (0.7.5)\n",
      "Requirement already satisfied: decorator in /home/faraznaseem/.local/lib/python3.8/site-packages (from ipython>=4.0.0->ipywidgets>=7->nglview) (5.0.9)\n",
      "Requirement already satisfied: backcall in /home/faraznaseem/.local/lib/python3.8/site-packages (from ipython>=4.0.0->ipywidgets>=7->nglview) (0.2.0)\n",
      "Requirement already satisfied: parso<0.9.0,>=0.8.0 in /home/faraznaseem/.local/lib/python3.8/site-packages (from jedi>=0.16->ipython>=4.0.0->ipywidgets>=7->nglview) (0.8.2)\n",
      "Requirement already satisfied: jsonschema!=2.5.0,>=2.4 in /home/faraznaseem/anaconda3/lib/python3.8/site-packages (from nbformat>=4.2.0->ipywidgets>=7->nglview) (3.2.0)\n",
      "Requirement already satisfied: ipython-genutils in /home/faraznaseem/.local/lib/python3.8/site-packages (from nbformat>=4.2.0->ipywidgets>=7->nglview) (0.2.0)\n",
      "Requirement already satisfied: jupyter-core in /home/faraznaseem/.local/lib/python3.8/site-packages (from nbformat>=4.2.0->ipywidgets>=7->nglview) (4.7.1)\n",
      "Requirement already satisfied: six>=1.11.0 in /home/faraznaseem/anaconda3/lib/python3.8/site-packages (from jsonschema!=2.5.0,>=2.4->nbformat>=4.2.0->ipywidgets>=7->nglview) (1.15.0)\n",
      "Requirement already satisfied: pyrsistent>=0.14.0 in /home/faraznaseem/anaconda3/lib/python3.8/site-packages (from jsonschema!=2.5.0,>=2.4->nbformat>=4.2.0->ipywidgets>=7->nglview) (0.17.3)\n",
      "Requirement already satisfied: attrs>=17.4.0 in /home/faraznaseem/.local/lib/python3.8/site-packages (from jsonschema!=2.5.0,>=2.4->nbformat>=4.2.0->ipywidgets>=7->nglview) (21.2.0)\n",
      "Requirement already satisfied: ptyprocess>=0.5 in /home/faraznaseem/.local/lib/python3.8/site-packages (from pexpect>4.3->ipython>=4.0.0->ipywidgets>=7->nglview) (0.7.0)\n",
      "Requirement already satisfied: wcwidth in /home/faraznaseem/.local/lib/python3.8/site-packages (from prompt-toolkit!=3.0.0,!=3.0.1,<3.1.0,>=2.0.0->ipython>=4.0.0->ipywidgets>=7->nglview) (0.2.5)\n",
      "Requirement already satisfied: notebook>=4.4.1 in /home/faraznaseem/.local/lib/python3.8/site-packages (from widgetsnbextension~=3.5.0->ipywidgets>=7->nglview) (6.4.0)\n",
      "Requirement already satisfied: terminado>=0.8.3 in /home/faraznaseem/.local/lib/python3.8/site-packages (from notebook>=4.4.1->widgetsnbextension~=3.5.0->ipywidgets>=7->nglview) (0.10.0)\n",
      "Requirement already satisfied: pyzmq>=17 in /home/faraznaseem/.local/lib/python3.8/site-packages (from notebook>=4.4.1->widgetsnbextension~=3.5.0->ipywidgets>=7->nglview) (22.1.0)\n",
      "Requirement already satisfied: prometheus-client in /home/faraznaseem/.local/lib/python3.8/site-packages (from notebook>=4.4.1->widgetsnbextension~=3.5.0->ipywidgets>=7->nglview) (0.10.1)\n",
      "Requirement already satisfied: nbconvert in /home/faraznaseem/.local/lib/python3.8/site-packages (from notebook>=4.4.1->widgetsnbextension~=3.5.0->ipywidgets>=7->nglview) (5.6.1)\n",
      "Requirement already satisfied: argon2-cffi in /home/faraznaseem/.local/lib/python3.8/site-packages (from notebook>=4.4.1->widgetsnbextension~=3.5.0->ipywidgets>=7->nglview) (20.1.0)\n",
      "Requirement already satisfied: Send2Trash>=1.5.0 in /home/faraznaseem/.local/lib/python3.8/site-packages (from notebook>=4.4.1->widgetsnbextension~=3.5.0->ipywidgets>=7->nglview) (1.5.0)\n",
      "Requirement already satisfied: jinja2 in /home/faraznaseem/.local/lib/python3.8/site-packages (from notebook>=4.4.1->widgetsnbextension~=3.5.0->ipywidgets>=7->nglview) (2.11.3)\n",
      "Requirement already satisfied: python-dateutil>=2.1 in /home/faraznaseem/anaconda3/lib/python3.8/site-packages (from jupyter-client->ipykernel>=4.5.1->ipywidgets>=7->nglview) (2.8.1)\n",
      "Requirement already satisfied: cffi>=1.0.0 in /home/faraznaseem/anaconda3/lib/python3.8/site-packages (from argon2-cffi->notebook>=4.4.1->widgetsnbextension~=3.5.0->ipywidgets>=7->nglview) (1.14.5)\n",
      "Requirement already satisfied: pycparser in /home/faraznaseem/anaconda3/lib/python3.8/site-packages (from cffi>=1.0.0->argon2-cffi->notebook>=4.4.1->widgetsnbextension~=3.5.0->ipywidgets>=7->nglview) (2.20)\n",
      "Requirement already satisfied: MarkupSafe>=0.23 in /home/faraznaseem/anaconda3/lib/python3.8/site-packages (from jinja2->notebook>=4.4.1->widgetsnbextension~=3.5.0->ipywidgets>=7->nglview) (1.1.1)\n",
      "Requirement already satisfied: mistune<2,>=0.8.1 in /home/faraznaseem/.local/lib/python3.8/site-packages (from nbconvert->notebook>=4.4.1->widgetsnbextension~=3.5.0->ipywidgets>=7->nglview) (0.8.4)\n",
      "Requirement already satisfied: bleach in /home/faraznaseem/.local/lib/python3.8/site-packages (from nbconvert->notebook>=4.4.1->widgetsnbextension~=3.5.0->ipywidgets>=7->nglview) (3.3.0)\n",
      "Requirement already satisfied: pandocfilters>=1.4.1 in /home/faraznaseem/.local/lib/python3.8/site-packages (from nbconvert->notebook>=4.4.1->widgetsnbextension~=3.5.0->ipywidgets>=7->nglview) (1.4.3)\n",
      "Requirement already satisfied: entrypoints>=0.2.2 in /home/faraznaseem/anaconda3/lib/python3.8/site-packages (from nbconvert->notebook>=4.4.1->widgetsnbextension~=3.5.0->ipywidgets>=7->nglview) (0.3)\n",
      "Requirement already satisfied: testpath in /home/faraznaseem/.local/lib/python3.8/site-packages (from nbconvert->notebook>=4.4.1->widgetsnbextension~=3.5.0->ipywidgets>=7->nglview) (0.5.0)\n",
      "Requirement already satisfied: defusedxml in /home/faraznaseem/.local/lib/python3.8/site-packages (from nbconvert->notebook>=4.4.1->widgetsnbextension~=3.5.0->ipywidgets>=7->nglview) (0.7.1)\n",
      "Requirement already satisfied: webencodings in /home/faraznaseem/.local/lib/python3.8/site-packages (from bleach->nbconvert->notebook>=4.4.1->widgetsnbextension~=3.5.0->ipywidgets>=7->nglview) (0.5.1)\n",
      "Requirement already satisfied: packaging in /home/faraznaseem/.local/lib/python3.8/site-packages (from bleach->nbconvert->notebook>=4.4.1->widgetsnbextension~=3.5.0->ipywidgets>=7->nglview) (20.9)\n"
     ]
    },
    {
     "name": "stdout",
     "output_type": "stream",
     "text": [
      "Requirement already satisfied: pyparsing>=2.0.2 in /home/faraznaseem/.local/lib/python3.8/site-packages (from packaging->bleach->nbconvert->notebook>=4.4.1->widgetsnbextension~=3.5.0->ipywidgets>=7->nglview) (2.4.7)\n",
      "Building jupyterlab assets (production, minimized)\n",
      "An error occured.\n",
      "RuntimeError: JupyterLab failed to build\n",
      "See the log file for details:  /tmp/jupyterlab-debug-ru5vmaim.log\n",
      "Building jupyterlab assets (production, minimized)\n",
      "An error occured.\n",
      "RuntimeError: JupyterLab failed to build\n",
      "See the log file for details:  /tmp/jupyterlab-debug-4h0pqxuo.log\n"
     ]
    }
   ],
   "source": [
    "!pip3 install jupyterlab\n",
    "!pip3 install biopython\n",
    "!pip3 install ipywidgets\n",
    "!pip3 install nglview\n",
    "!jupyter-labextension install @jupyter-widgets/jupyterlab-manager\n",
    "!jupyter-labextension install nglview-js-widgets@$nglviewversion"
   ]
  },
  {
   "cell_type": "markdown",
   "metadata": {},
   "source": [
    "## Setup environment"
   ]
  },
  {
   "cell_type": "code",
   "execution_count": 2,
   "metadata": {},
   "outputs": [
    {
     "data": {
      "application/vnd.jupyter.widget-view+json": {
       "model_id": "2d84023ed9d84a0199e65c8460dbaea7",
       "version_major": 2,
       "version_minor": 0
      },
      "text/plain": []
     },
     "metadata": {},
     "output_type": "display_data"
    },
    {
     "name": "stdout",
     "output_type": "stream",
     "text": [
      "Python version sys.version_info(major=3, minor=8, micro=5, releaselevel='final', serial=0)\n",
      "Biopython version 1.78\n"
     ]
    }
   ],
   "source": [
    "import Bio\n",
    "from Bio.Seq import Seq\n",
    "import ipywidgets as widgets\n",
    "from Bio.PDB import *\n",
    "import os\n",
    "import sys\n",
    "import nglview as nv\n",
    "import platform\n",
    "print(\"Python version\",sys.version_info)\n",
    "print(\"Biopython version\", Bio.__version__)"
   ]
  },
  {
   "cell_type": "markdown",
   "metadata": {},
   "source": [
    "## Chapter 1 Substitution Matrices\n",
    "One of the fundamental operations in bioinformatics is comparing two sequences, either nucleic acids or proteins and line them up to archieve maximal levels of identity. This is called _**pairwise sequence alignment**_. Quantification of the similarity of the two sequences is important for establishing whether they are homologs. There are two widely used methods developed to quantify the similarity.\n",
    "\n",
    "- Method 1: align closely related homologs and counting the frequencies of amino acid substitutions.\n",
    "- Method 2: use a database of aligned sequences derived from protein domains that have a particular structure or function. The frequencies of amino acid substitutions are recorded.\n",
    "These two methods gave rise to the *PAM* and *BLOSUM* series of amino acid substitution matrices, respectively. These substitution matrices are used in many sequence alignment tools.\n",
    "\n",
    "The *Biopython* package includes these substitution matrices."
   ]
  },
  {
   "cell_type": "code",
   "execution_count": 3,
   "metadata": {},
   "outputs": [
    {
     "name": "stdout",
     "output_type": "stream",
     "text": [
      "#  Matrix made by matblas from blosum62.iij\n",
      "#  * column uses minimum score\n",
      "#  BLOSUM Clustered Scoring Matrix in 1/2 Bit Units\n",
      "#  Blocks Database = /data/blocks_5.0/blocks.dat\n",
      "#  Cluster Percentage: >= 62\n",
      "#  Entropy =   0.6979, Expected =  -0.5209\n",
      "     A    R    N    D    C    Q    E    G    H    I    L    K    M    F    P    S    T    W    Y    V    B    Z    X    *\n",
      "A  4.0 -1.0 -2.0 -2.0  0.0 -1.0 -1.0  0.0 -2.0 -1.0 -1.0 -1.0 -1.0 -2.0 -1.0  1.0  0.0 -3.0 -2.0  0.0 -2.0 -1.0  0.0 -4.0\n",
      "R -1.0  5.0  0.0 -2.0 -3.0  1.0  0.0 -2.0  0.0 -3.0 -2.0  2.0 -1.0 -3.0 -2.0 -1.0 -1.0 -3.0 -2.0 -3.0 -1.0  0.0 -1.0 -4.0\n",
      "N -2.0  0.0  6.0  1.0 -3.0  0.0  0.0  0.0  1.0 -3.0 -3.0  0.0 -2.0 -3.0 -2.0  1.0  0.0 -4.0 -2.0 -3.0  3.0  0.0 -1.0 -4.0\n",
      "D -2.0 -2.0  1.0  6.0 -3.0  0.0  2.0 -1.0 -1.0 -3.0 -4.0 -1.0 -3.0 -3.0 -1.0  0.0 -1.0 -4.0 -3.0 -3.0  4.0  1.0 -1.0 -4.0\n",
      "C  0.0 -3.0 -3.0 -3.0  9.0 -3.0 -4.0 -3.0 -3.0 -1.0 -1.0 -3.0 -1.0 -2.0 -3.0 -1.0 -1.0 -2.0 -2.0 -1.0 -3.0 -3.0 -2.0 -4.0\n",
      "Q -1.0  1.0  0.0  0.0 -3.0  5.0  2.0 -2.0  0.0 -3.0 -2.0  1.0  0.0 -3.0 -1.0  0.0 -1.0 -2.0 -1.0 -2.0  0.0  3.0 -1.0 -4.0\n",
      "E -1.0  0.0  0.0  2.0 -4.0  2.0  5.0 -2.0  0.0 -3.0 -3.0  1.0 -2.0 -3.0 -1.0  0.0 -1.0 -3.0 -2.0 -2.0  1.0  4.0 -1.0 -4.0\n",
      "G  0.0 -2.0  0.0 -1.0 -3.0 -2.0 -2.0  6.0 -2.0 -4.0 -4.0 -2.0 -3.0 -3.0 -2.0  0.0 -2.0 -2.0 -3.0 -3.0 -1.0 -2.0 -1.0 -4.0\n",
      "H -2.0  0.0  1.0 -1.0 -3.0  0.0  0.0 -2.0  8.0 -3.0 -3.0 -1.0 -2.0 -1.0 -2.0 -1.0 -2.0 -2.0  2.0 -3.0  0.0  0.0 -1.0 -4.0\n",
      "I -1.0 -3.0 -3.0 -3.0 -1.0 -3.0 -3.0 -4.0 -3.0  4.0  2.0 -3.0  1.0  0.0 -3.0 -2.0 -1.0 -3.0 -1.0  3.0 -3.0 -3.0 -1.0 -4.0\n",
      "L -1.0 -2.0 -3.0 -4.0 -1.0 -2.0 -3.0 -4.0 -3.0  2.0  4.0 -2.0  2.0  0.0 -3.0 -2.0 -1.0 -2.0 -1.0  1.0 -4.0 -3.0 -1.0 -4.0\n",
      "K -1.0  2.0  0.0 -1.0 -3.0  1.0  1.0 -2.0 -1.0 -3.0 -2.0  5.0 -1.0 -3.0 -1.0  0.0 -1.0 -3.0 -2.0 -2.0  0.0  1.0 -1.0 -4.0\n",
      "M -1.0 -1.0 -2.0 -3.0 -1.0  0.0 -2.0 -3.0 -2.0  1.0  2.0 -1.0  5.0  0.0 -2.0 -1.0 -1.0 -1.0 -1.0  1.0 -3.0 -1.0 -1.0 -4.0\n",
      "F -2.0 -3.0 -3.0 -3.0 -2.0 -3.0 -3.0 -3.0 -1.0  0.0  0.0 -3.0  0.0  6.0 -4.0 -2.0 -2.0  1.0  3.0 -1.0 -3.0 -3.0 -1.0 -4.0\n",
      "P -1.0 -2.0 -2.0 -1.0 -3.0 -1.0 -1.0 -2.0 -2.0 -3.0 -3.0 -1.0 -2.0 -4.0  7.0 -1.0 -1.0 -4.0 -3.0 -2.0 -2.0 -1.0 -2.0 -4.0\n",
      "S  1.0 -1.0  1.0  0.0 -1.0  0.0  0.0  0.0 -1.0 -2.0 -2.0  0.0 -1.0 -2.0 -1.0  4.0  1.0 -3.0 -2.0 -2.0  0.0  0.0  0.0 -4.0\n",
      "T  0.0 -1.0  0.0 -1.0 -1.0 -1.0 -1.0 -2.0 -2.0 -1.0 -1.0 -1.0 -1.0 -2.0 -1.0  1.0  5.0 -2.0 -2.0  0.0 -1.0 -1.0  0.0 -4.0\n",
      "W -3.0 -3.0 -4.0 -4.0 -2.0 -2.0 -3.0 -2.0 -2.0 -3.0 -2.0 -3.0 -1.0  1.0 -4.0 -3.0 -2.0 11.0  2.0 -3.0 -4.0 -3.0 -2.0 -4.0\n",
      "Y -2.0 -2.0 -2.0 -3.0 -2.0 -1.0 -2.0 -3.0  2.0 -1.0 -1.0 -2.0 -1.0  3.0 -3.0 -2.0 -2.0  2.0  7.0 -1.0 -3.0 -2.0 -1.0 -4.0\n",
      "V  0.0 -3.0 -3.0 -3.0 -1.0 -2.0 -2.0 -3.0 -3.0  3.0  1.0 -2.0  1.0 -1.0 -2.0 -2.0  0.0 -3.0 -1.0  4.0 -3.0 -2.0 -1.0 -4.0\n",
      "B -2.0 -1.0  3.0  4.0 -3.0  0.0  1.0 -1.0  0.0 -3.0 -4.0  0.0 -3.0 -3.0 -2.0  0.0 -1.0 -4.0 -3.0 -3.0  4.0  1.0 -1.0 -4.0\n",
      "Z -1.0  0.0  0.0  1.0 -3.0  3.0  4.0 -2.0  0.0 -3.0 -3.0  1.0 -1.0 -3.0 -1.0  0.0 -1.0 -3.0 -2.0 -2.0  1.0  4.0 -1.0 -4.0\n",
      "X  0.0 -1.0 -1.0 -1.0 -2.0 -1.0 -1.0 -1.0 -1.0 -1.0 -1.0 -1.0 -1.0 -1.0 -2.0  0.0  0.0 -2.0 -1.0 -1.0 -1.0 -1.0 -1.0 -4.0\n",
      "* -4.0 -4.0 -4.0 -4.0 -4.0 -4.0 -4.0 -4.0 -4.0 -4.0 -4.0 -4.0 -4.0 -4.0 -4.0 -4.0 -4.0 -4.0 -4.0 -4.0 -4.0 -4.0 -4.0  1.0\n",
      "\n",
      "--------------------------------------------------------------------------------\n",
      "#  \n",
      "#  This matrix was produced by \"pam\" Version 1.0.6 [28-Jul-93]\n",
      "#  \n",
      "#  PAM 250 substitution matrix, scale = ln(2)/3 = 0.231049\n",
      "#  \n",
      "#  Expected score = -0.844, Entropy = 0.354 bits\n",
      "#  \n",
      "#  Lowest score = -8, Highest score = 17\n",
      "#  \n",
      "     A    R    N    D    C    Q    E    G    H    I    L    K    M    F    P    S    T    W    Y    V    B    Z    X    *\n",
      "A  2.0 -2.0  0.0  0.0 -2.0  0.0  0.0  1.0 -1.0 -1.0 -2.0 -1.0 -1.0 -3.0  1.0  1.0  1.0 -6.0 -3.0  0.0  0.0  0.0  0.0 -8.0\n",
      "R -2.0  6.0  0.0 -1.0 -4.0  1.0 -1.0 -3.0  2.0 -2.0 -3.0  3.0  0.0 -4.0  0.0  0.0 -1.0  2.0 -4.0 -2.0 -1.0  0.0 -1.0 -8.0\n",
      "N  0.0  0.0  2.0  2.0 -4.0  1.0  1.0  0.0  2.0 -2.0 -3.0  1.0 -2.0 -3.0  0.0  1.0  0.0 -4.0 -2.0 -2.0  2.0  1.0  0.0 -8.0\n",
      "D  0.0 -1.0  2.0  4.0 -5.0  2.0  3.0  1.0  1.0 -2.0 -4.0  0.0 -3.0 -6.0 -1.0  0.0  0.0 -7.0 -4.0 -2.0  3.0  3.0 -1.0 -8.0\n",
      "C -2.0 -4.0 -4.0 -5.0 12.0 -5.0 -5.0 -3.0 -3.0 -2.0 -6.0 -5.0 -5.0 -4.0 -3.0  0.0 -2.0 -8.0  0.0 -2.0 -4.0 -5.0 -3.0 -8.0\n",
      "Q  0.0  1.0  1.0  2.0 -5.0  4.0  2.0 -1.0  3.0 -2.0 -2.0  1.0 -1.0 -5.0  0.0 -1.0 -1.0 -5.0 -4.0 -2.0  1.0  3.0 -1.0 -8.0\n",
      "E  0.0 -1.0  1.0  3.0 -5.0  2.0  4.0  0.0  1.0 -2.0 -3.0  0.0 -2.0 -5.0 -1.0  0.0  0.0 -7.0 -4.0 -2.0  3.0  3.0 -1.0 -8.0\n",
      "G  1.0 -3.0  0.0  1.0 -3.0 -1.0  0.0  5.0 -2.0 -3.0 -4.0 -2.0 -3.0 -5.0  0.0  1.0  0.0 -7.0 -5.0 -1.0  0.0  0.0 -1.0 -8.0\n",
      "H -1.0  2.0  2.0  1.0 -3.0  3.0  1.0 -2.0  6.0 -2.0 -2.0  0.0 -2.0 -2.0  0.0 -1.0 -1.0 -3.0  0.0 -2.0  1.0  2.0 -1.0 -8.0\n",
      "I -1.0 -2.0 -2.0 -2.0 -2.0 -2.0 -2.0 -3.0 -2.0  5.0  2.0 -2.0  2.0  1.0 -2.0 -1.0  0.0 -5.0 -1.0  4.0 -2.0 -2.0 -1.0 -8.0\n",
      "L -2.0 -3.0 -3.0 -4.0 -6.0 -2.0 -3.0 -4.0 -2.0  2.0  6.0 -3.0  4.0  2.0 -3.0 -3.0 -2.0 -2.0 -1.0  2.0 -3.0 -3.0 -1.0 -8.0\n",
      "K -1.0  3.0  1.0  0.0 -5.0  1.0  0.0 -2.0  0.0 -2.0 -3.0  5.0  0.0 -5.0 -1.0  0.0  0.0 -3.0 -4.0 -2.0  1.0  0.0 -1.0 -8.0\n",
      "M -1.0  0.0 -2.0 -3.0 -5.0 -1.0 -2.0 -3.0 -2.0  2.0  4.0  0.0  6.0  0.0 -2.0 -2.0 -1.0 -4.0 -2.0  2.0 -2.0 -2.0 -1.0 -8.0\n",
      "F -3.0 -4.0 -3.0 -6.0 -4.0 -5.0 -5.0 -5.0 -2.0  1.0  2.0 -5.0  0.0  9.0 -5.0 -3.0 -3.0  0.0  7.0 -1.0 -4.0 -5.0 -2.0 -8.0\n",
      "P  1.0  0.0  0.0 -1.0 -3.0  0.0 -1.0  0.0  0.0 -2.0 -3.0 -1.0 -2.0 -5.0  6.0  1.0  0.0 -6.0 -5.0 -1.0 -1.0  0.0 -1.0 -8.0\n",
      "S  1.0  0.0  1.0  0.0  0.0 -1.0  0.0  1.0 -1.0 -1.0 -3.0  0.0 -2.0 -3.0  1.0  2.0  1.0 -2.0 -3.0 -1.0  0.0  0.0  0.0 -8.0\n",
      "T  1.0 -1.0  0.0  0.0 -2.0 -1.0  0.0  0.0 -1.0  0.0 -2.0  0.0 -1.0 -3.0  0.0  1.0  3.0 -5.0 -3.0  0.0  0.0 -1.0  0.0 -8.0\n",
      "W -6.0  2.0 -4.0 -7.0 -8.0 -5.0 -7.0 -7.0 -3.0 -5.0 -2.0 -3.0 -4.0  0.0 -6.0 -2.0 -5.0 17.0  0.0 -6.0 -5.0 -6.0 -4.0 -8.0\n",
      "Y -3.0 -4.0 -2.0 -4.0  0.0 -4.0 -4.0 -5.0  0.0 -1.0 -1.0 -4.0 -2.0  7.0 -5.0 -3.0 -3.0  0.0 10.0 -2.0 -3.0 -4.0 -2.0 -8.0\n",
      "V  0.0 -2.0 -2.0 -2.0 -2.0 -2.0 -2.0 -1.0 -2.0  4.0  2.0 -2.0  2.0 -1.0 -1.0 -1.0  0.0 -6.0 -2.0  4.0 -2.0 -2.0 -1.0 -8.0\n",
      "B  0.0 -1.0  2.0  3.0 -4.0  1.0  3.0  0.0  1.0 -2.0 -3.0  1.0 -2.0 -4.0 -1.0  0.0  0.0 -5.0 -3.0 -2.0  3.0  2.0 -1.0 -8.0\n",
      "Z  0.0  0.0  1.0  3.0 -5.0  3.0  3.0  0.0  2.0 -2.0 -3.0  0.0 -2.0 -5.0  0.0  0.0 -1.0 -6.0 -4.0 -2.0  2.0  3.0 -1.0 -8.0\n",
      "X  0.0 -1.0  0.0 -1.0 -3.0 -1.0 -1.0 -1.0 -1.0 -1.0 -1.0 -1.0 -1.0 -2.0 -1.0  0.0  0.0 -4.0 -2.0 -1.0 -1.0 -1.0 -1.0 -8.0\n",
      "* -8.0 -8.0 -8.0 -8.0 -8.0 -8.0 -8.0 -8.0 -8.0 -8.0 -8.0 -8.0 -8.0 -8.0 -8.0 -8.0 -8.0 -8.0 -8.0 -8.0 -8.0 -8.0 -8.0  1.0\n",
      "\n"
     ]
    }
   ],
   "source": [
    "# this scriptlet display BLOSUM62 and PAM250 matrices\n",
    "from Bio.Align import substitution_matrices as smatrices\n",
    "blosum62 = smatrices.load(\"BLOSUM62\")\n",
    "pam250 = smatrices.load(\"PAM250\")\n",
    "print(blosum62)\n",
    "print(\"-\"*80)\n",
    "print(pam250)"
   ]
  },
  {
   "cell_type": "markdown",
   "metadata": {},
   "source": [
    "## Chapter 2 Molecular Graphics\n",
    "\n",
    "In this section, we use NGLView to display a structure of interest.\n"
   ]
  },
  {
   "cell_type": "code",
   "execution_count": 4,
   "metadata": {
    "scrolled": true
   },
   "outputs": [
    {
     "name": "stdout",
     "output_type": "stream",
     "text": [
      "Please enter the PDB code of the structure: 1YY8\n"
     ]
    }
   ],
   "source": [
    "#In this block, the user will be prompted to enter the name of the pdb code that they would like to look at.\n",
    "text_box = str(input(\"Please enter the PDB code of the structure: \"))"
   ]
  },
  {
   "cell_type": "code",
   "execution_count": 5,
   "metadata": {},
   "outputs": [
    {
     "name": "stderr",
     "output_type": "stream",
     "text": [
      "WARNING: The default download format has changed from PDB to PDBx/mmCif\n"
     ]
    },
    {
     "name": "stdout",
     "output_type": "stream",
     "text": [
      "Downloading PDB structure '1YY8'...\n",
      "i\n",
      "The name of the protein is, 1yy8.cif\n"
     ]
    }
   ],
   "source": [
    "# we minic the folder structure of PDB database and save the pdf file in the corresponding folder.\n",
    "first_pdb_file = PDBList()\n",
    "name = first_pdb_file.retrieve_pdb_file(text_box)\n",
    "protein_file = \"\"\n",
    "last_value = -1\n",
    "print(name[-2])\n",
    "\n",
    "if (platform.system() == 'Windows'):\n",
    "    while (name[last_value] != '\\\\'):\n",
    "        protein_file += name[last_value] #Each of the letters is added to the protein_name string, starting from the last letter.\n",
    "        #The value of last_value (which is supposed to immitate the index) is reduced by one, and since it's negative, the constantly decreasing value goes towards the beginning of the string.\n",
    "        last_value -= 1 \n",
    "\n",
    "else:\n",
    "    while (name[last_value] != '/'):\n",
    "        protein_file += name[last_value] #Each of the letters is added to the protein_name string, starting from the last letter.\n",
    "        #The value of last_value (which is supposed to immitate the index) is reduced by one, and since it's negative, the constantly decreasing value goes towards the beginning of the string.\n",
    "        last_value -= 1 \n",
    "\n",
    "protein_file = protein_file[::-1] #The protein name is reversed, to get a proper pdb file format.\n",
    "\n",
    "protein_name = \"\"\n",
    "\n",
    "index = 0\n",
    "while(protein_file[index] != '.'):\n",
    "    protein_name += protein_file[index]\n",
    "    index += 1\n",
    "\n",
    "protein_name = protein_name.upper()\n",
    "print(\"The name of the protein is, \" + protein_file)"
   ]
  },
  {
   "cell_type": "code",
   "execution_count": 6,
   "metadata": {},
   "outputs": [
    {
     "name": "stderr",
     "output_type": "stream",
     "text": [
      "/home/faraznaseem/.local/lib/python3.8/site-packages/Bio/PDB/StructureBuilder.py:89: PDBConstructionWarning: WARNING: Chain A is discontinuous at line 6604.\n",
      "  warnings.warn(\n",
      "/home/faraznaseem/.local/lib/python3.8/site-packages/Bio/PDB/StructureBuilder.py:89: PDBConstructionWarning: WARNING: Chain B is discontinuous at line 6708.\n",
      "  warnings.warn(\n",
      "/home/faraznaseem/.local/lib/python3.8/site-packages/Bio/PDB/StructureBuilder.py:89: PDBConstructionWarning: WARNING: Chain C is discontinuous at line 6781.\n",
      "  warnings.warn(\n",
      "/home/faraznaseem/.local/lib/python3.8/site-packages/Bio/PDB/StructureBuilder.py:89: PDBConstructionWarning: WARNING: Chain D is discontinuous at line 6879.\n",
      "  warnings.warn(\n",
      "/home/faraznaseem/.local/lib/python3.8/site-packages/Bio/PDB/StructureBuilder.py:89: PDBConstructionWarning: WARNING: Chain A is discontinuous at line 6604.\n",
      "  warnings.warn(\n",
      "/home/faraznaseem/.local/lib/python3.8/site-packages/Bio/PDB/StructureBuilder.py:89: PDBConstructionWarning: WARNING: Chain B is discontinuous at line 6708.\n",
      "  warnings.warn(\n",
      "/home/faraznaseem/.local/lib/python3.8/site-packages/Bio/PDB/StructureBuilder.py:89: PDBConstructionWarning: WARNING: Chain C is discontinuous at line 6781.\n",
      "  warnings.warn(\n",
      "/home/faraznaseem/.local/lib/python3.8/site-packages/Bio/PDB/StructureBuilder.py:89: PDBConstructionWarning: WARNING: Chain D is discontinuous at line 6879.\n",
      "  warnings.warn(\n"
     ]
    }
   ],
   "source": [
    "protein_class = str(protein_file[1]) + str(protein_file[2])\n",
    "\n",
    "#We create an instance of the MMCIF Parser, to load the protein file.\n",
    "parser = MMCIFParser()\n",
    "\n",
    "path = os.path.join(protein_class, protein_file)\n",
    "structure = parser.get_structure(protein_name, path)\n",
    "path = os.path.join(protein_class, protein_file)\n",
    "structure = parser.get_structure(protein_name, path)"
   ]
  },
  {
   "cell_type": "code",
   "execution_count": 7,
   "metadata": {},
   "outputs": [
    {
     "name": "stdout",
     "output_type": "stream",
     "text": [
      "add, atom_to_internal_coordinates, child_dict, child_list, copy, detach_child, detach_parent, full_id, get_atoms, get_chains, get_full_id, get_id, get_iterator, get_level, get_list, get_models, get_parent, get_residues, has_id, header, id, insert, internal_to_atom_coordinates, level, parent, set_parent, transform, xtra\n"
     ]
    }
   ],
   "source": [
    "\n",
    "def clean_protein(obj):\n",
    "    print(', '.join([a for a in dir(obj) if not a.startswith('_')]))\n",
    "    \n",
    "clean_protein(structure)"
   ]
  },
  {
   "cell_type": "code",
   "execution_count": 8,
   "metadata": {},
   "outputs": [
    {
     "data": {
      "application/vnd.jupyter.widget-view+json": {
       "model_id": "c83efc64e53b48159a50d1a1faa21b60",
       "version_major": 2,
       "version_minor": 0
      },
      "text/plain": [
       "NGLWidget()"
      ]
     },
     "metadata": {},
     "output_type": "display_data"
    }
   ],
   "source": [
    "view_one = nv.show_biopython(structure)\n",
    "view_one"
   ]
  },
  {
   "cell_type": "code",
   "execution_count": 9,
   "metadata": {},
   "outputs": [
    {
     "data": {
      "application/vnd.jupyter.widget-view+json": {
       "model_id": "88c3c1d0b91d419b9993d3408fb03332",
       "version_major": 2,
       "version_minor": 0
      },
      "text/plain": [
       "Image(value=b'', width='99%')"
      ]
     },
     "metadata": {},
     "output_type": "display_data"
    }
   ],
   "source": [
    "view_one.render_image()"
   ]
  },
  {
   "cell_type": "code",
   "execution_count": 10,
   "metadata": {},
   "outputs": [
    {
     "data": {
      "image/png": "\n",
      "text/plain": [
       "<IPython.core.display.Image object>"
      ]
     },
     "execution_count": 10,
     "metadata": {},
     "output_type": "execute_result"
    }
   ],
   "source": [
    "view_one._display_image()"
   ]
  },
  {
   "cell_type": "code",
   "execution_count": 11,
   "metadata": {},
   "outputs": [
    {
     "data": {
      "application/vnd.jupyter.widget-view+json": {
       "model_id": "0a18412a6bef4b789f47f801e2c7a478",
       "version_major": 2,
       "version_minor": 0
      },
      "text/plain": [
       "NGLWidget()"
      ]
     },
     "metadata": {},
     "output_type": "display_data"
    }
   ],
   "source": [
    "view_two = nv.show_biopython(structure)\n",
    "view_two.add_ball_and_stick()\n",
    "view_two"
   ]
  },
  {
   "cell_type": "code",
   "execution_count": 12,
   "metadata": {},
   "outputs": [],
   "source": [
    "# clean up the folder if neccessary\n",
    "os.remove(path) #Removes the file after the user is done looking at the protein.\n",
    "os.rmdir(protein_class)"
   ]
  },
  {
   "cell_type": "code",
   "execution_count": null,
   "metadata": {},
   "outputs": [],
   "source": []
  },
  {
   "cell_type": "code",
   "execution_count": null,
   "metadata": {},
   "outputs": [],
   "source": []
  }
 ],
 "metadata": {
  "kernelspec": {
   "display_name": "Python 3",
   "language": "python",
   "name": "python3"
  },
  "language_info": {
   "codemirror_mode": {
    "name": "ipython",
    "version": 3
   },
   "file_extension": ".py",
   "mimetype": "text/x-python",
   "name": "python",
   "nbconvert_exporter": "python",
   "pygments_lexer": "ipython3",
   "version": "3.8.5"
  }
 },
 "nbformat": 4,
 "nbformat_minor": 4
}
