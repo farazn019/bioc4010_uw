{
 "cells": [
  {
   "cell_type": "markdown",
   "metadata": {},
   "source": [
    "# Bioinformatics Platform using JupyterLab\n",
    "\n",
    "Author: Robert Bradford\n",
    "\n",
    "This is a thesis project using JupyterLab to facilitate the study of BIOC-4010 course. This tutorial implements the following basic modules using Biopython, NGLView。\n",
    "1. BLAST\n",
    "2. Display a 3D structure\n",
    "\n",
    "Requirements:\n",
    "\n",
    "To run this notebook successfully, it is recommended to use Miniconda + JupyterLab and install the  required packages and extensions. The notebook shall also work on [Google Colab](https://colab.research.google.com/) or [Binder](https://jupyter.org/binder) but this has not been tested.\n",
    "\n",
    "The following packages are required and can installed using conda. It is recommended to create a new environment and install these packages. You can use the [nglview-jupyterlab.sh script](https://github.com/nglviewer/nglview/blob/master/devtools/nglview-jupyterlab.sh) to install the nglview related packages.\n",
    "* python 3.8+\n",
    "* jupyterlab 2.1+\n",
    "* biopython 1.7+\n",
    "* ipywidgets 7.5+\n",
    "* nodejs 12.0.0+, required for the jupyter-labextensions\n",
    "* nglview 2.7+\n",
    "    * if you do not use the nglview-jupyterlab.sh script, run the following two commands manually after you install jupyterlab\n",
    "    * `jupyter-labextension install @jupyter-widgets/jupyterlab-manager`\n",
    "    * `jupyter-labextension install nglview-js-widgets@$nglviewversion` where `$nglviewversion` is the version of the `nglview` installed package, which can be inspected with `conda list nglview`.\n",
    "    \n",
    "\n",
    "This notebook has been test on:\n",
    "1. miniconda3\n",
    "2. "
   ]
  },
  {
   "cell_type": "code",
   "execution_count": 1,
   "metadata": {},
   "outputs": [
    {
     "name": "stdout",
     "output_type": "stream",
     "text": [
      "Requirement already satisfied: jupyterlab in /Library/Frameworks/Python.framework/Versions/3.9/lib/python3.9/site-packages (3.1.1)\n",
      "Requirement already satisfied: jinja2>=2.1 in /Library/Frameworks/Python.framework/Versions/3.9/lib/python3.9/site-packages (from jupyterlab) (3.0.1)\n",
      "Requirement already satisfied: jupyter-core in /Library/Frameworks/Python.framework/Versions/3.9/lib/python3.9/site-packages (from jupyterlab) (4.7.1)\n",
      "Requirement already satisfied: jupyter-server~=1.4 in /Library/Frameworks/Python.framework/Versions/3.9/lib/python3.9/site-packages (from jupyterlab) (1.10.1)\n",
      "Requirement already satisfied: ipython in /Library/Frameworks/Python.framework/Versions/3.9/lib/python3.9/site-packages (from jupyterlab) (7.25.0)\n",
      "Requirement already satisfied: nbclassic~=0.2 in /Library/Frameworks/Python.framework/Versions/3.9/lib/python3.9/site-packages (from jupyterlab) (0.3.1)\n",
      "Requirement already satisfied: jupyterlab-server~=2.3 in /Library/Frameworks/Python.framework/Versions/3.9/lib/python3.9/site-packages (from jupyterlab) (2.6.1)\n",
      "Requirement already satisfied: tornado>=6.1.0 in /Library/Frameworks/Python.framework/Versions/3.9/lib/python3.9/site-packages (from jupyterlab) (6.1)\n",
      "Requirement already satisfied: packaging in /Library/Frameworks/Python.framework/Versions/3.9/lib/python3.9/site-packages (from jupyterlab) (21.0)\n",
      "Requirement already satisfied: MarkupSafe>=2.0 in /Library/Frameworks/Python.framework/Versions/3.9/lib/python3.9/site-packages (from jinja2>=2.1->jupyterlab) (2.0.1)\n",
      "Requirement already satisfied: pyzmq>=17 in /Library/Frameworks/Python.framework/Versions/3.9/lib/python3.9/site-packages (from jupyter-server~=1.4->jupyterlab) (22.1.0)\n",
      "Requirement already satisfied: prometheus-client in /Library/Frameworks/Python.framework/Versions/3.9/lib/python3.9/site-packages (from jupyter-server~=1.4->jupyterlab) (0.11.0)\n",
      "Requirement already satisfied: nbconvert in /Library/Frameworks/Python.framework/Versions/3.9/lib/python3.9/site-packages (from jupyter-server~=1.4->jupyterlab) (6.1.0)\n",
      "Requirement already satisfied: Send2Trash in /Library/Frameworks/Python.framework/Versions/3.9/lib/python3.9/site-packages (from jupyter-server~=1.4->jupyterlab) (1.7.1)\n",
      "Requirement already satisfied: anyio<4,>=3.1.0 in /Library/Frameworks/Python.framework/Versions/3.9/lib/python3.9/site-packages (from jupyter-server~=1.4->jupyterlab) (3.3.0)\n",
      "Requirement already satisfied: requests-unixsocket in /Library/Frameworks/Python.framework/Versions/3.9/lib/python3.9/site-packages (from jupyter-server~=1.4->jupyterlab) (0.2.0)\n",
      "Requirement already satisfied: traitlets>=4.2.1 in /Library/Frameworks/Python.framework/Versions/3.9/lib/python3.9/site-packages (from jupyter-server~=1.4->jupyterlab) (5.0.5)\n",
      "Requirement already satisfied: websocket-client in /Library/Frameworks/Python.framework/Versions/3.9/lib/python3.9/site-packages (from jupyter-server~=1.4->jupyterlab) (1.1.0)\n",
      "Requirement already satisfied: ipython-genutils in /Library/Frameworks/Python.framework/Versions/3.9/lib/python3.9/site-packages (from jupyter-server~=1.4->jupyterlab) (0.2.0)\n",
      "Requirement already satisfied: nbformat in /Library/Frameworks/Python.framework/Versions/3.9/lib/python3.9/site-packages (from jupyter-server~=1.4->jupyterlab) (5.1.3)\n",
      "Requirement already satisfied: terminado>=0.8.3 in /Library/Frameworks/Python.framework/Versions/3.9/lib/python3.9/site-packages (from jupyter-server~=1.4->jupyterlab) (0.10.1)\n",
      "Requirement already satisfied: argon2-cffi in /Library/Frameworks/Python.framework/Versions/3.9/lib/python3.9/site-packages (from jupyter-server~=1.4->jupyterlab) (20.1.0)\n",
      "Requirement already satisfied: jupyter-client>=6.1.1 in /Library/Frameworks/Python.framework/Versions/3.9/lib/python3.9/site-packages (from jupyter-server~=1.4->jupyterlab) (6.1.12)\n",
      "Requirement already satisfied: idna>=2.8 in /Library/Frameworks/Python.framework/Versions/3.9/lib/python3.9/site-packages (from anyio<4,>=3.1.0->jupyter-server~=1.4->jupyterlab) (3.2)\n",
      "Requirement already satisfied: sniffio>=1.1 in /Library/Frameworks/Python.framework/Versions/3.9/lib/python3.9/site-packages (from anyio<4,>=3.1.0->jupyter-server~=1.4->jupyterlab) (1.2.0)\n",
      "Requirement already satisfied: python-dateutil>=2.1 in /Library/Frameworks/Python.framework/Versions/3.9/lib/python3.9/site-packages (from jupyter-client>=6.1.1->jupyter-server~=1.4->jupyterlab) (2.8.2)\n",
      "Requirement already satisfied: requests in /Library/Frameworks/Python.framework/Versions/3.9/lib/python3.9/site-packages (from jupyterlab-server~=2.3->jupyterlab) (2.26.0)\n",
      "Requirement already satisfied: json5 in /Library/Frameworks/Python.framework/Versions/3.9/lib/python3.9/site-packages (from jupyterlab-server~=2.3->jupyterlab) (0.9.6)\n",
      "Requirement already satisfied: jsonschema>=3.0.1 in /Library/Frameworks/Python.framework/Versions/3.9/lib/python3.9/site-packages (from jupyterlab-server~=2.3->jupyterlab) (3.2.0)\n",
      "Requirement already satisfied: babel in /Library/Frameworks/Python.framework/Versions/3.9/lib/python3.9/site-packages (from jupyterlab-server~=2.3->jupyterlab) (2.9.1)\n",
      "Requirement already satisfied: six>=1.11.0 in /Library/Frameworks/Python.framework/Versions/3.9/lib/python3.9/site-packages (from jsonschema>=3.0.1->jupyterlab-server~=2.3->jupyterlab) (1.16.0)\n",
      "Requirement already satisfied: attrs>=17.4.0 in /Library/Frameworks/Python.framework/Versions/3.9/lib/python3.9/site-packages (from jsonschema>=3.0.1->jupyterlab-server~=2.3->jupyterlab) (21.2.0)\n",
      "Requirement already satisfied: setuptools in /Library/Frameworks/Python.framework/Versions/3.9/lib/python3.9/site-packages (from jsonschema>=3.0.1->jupyterlab-server~=2.3->jupyterlab) (56.0.0)\n",
      "Requirement already satisfied: pyrsistent>=0.14.0 in /Library/Frameworks/Python.framework/Versions/3.9/lib/python3.9/site-packages (from jsonschema>=3.0.1->jupyterlab-server~=2.3->jupyterlab) (0.18.0)\n",
      "Requirement already satisfied: notebook<7 in /Library/Frameworks/Python.framework/Versions/3.9/lib/python3.9/site-packages (from nbclassic~=0.2->jupyterlab) (6.4.0)\n",
      "Requirement already satisfied: ipykernel in /Library/Frameworks/Python.framework/Versions/3.9/lib/python3.9/site-packages (from notebook<7->nbclassic~=0.2->jupyterlab) (6.0.3)\n",
      "Requirement already satisfied: ptyprocess in /Library/Frameworks/Python.framework/Versions/3.9/lib/python3.9/site-packages (from terminado>=0.8.3->jupyter-server~=1.4->jupyterlab) (0.7.0)\n",
      "Requirement already satisfied: cffi>=1.0.0 in /Library/Frameworks/Python.framework/Versions/3.9/lib/python3.9/site-packages (from argon2-cffi->jupyter-server~=1.4->jupyterlab) (1.14.6)\n",
      "Requirement already satisfied: pycparser in /Library/Frameworks/Python.framework/Versions/3.9/lib/python3.9/site-packages (from cffi>=1.0.0->argon2-cffi->jupyter-server~=1.4->jupyterlab) (2.20)\n",
      "Requirement already satisfied: pytz>=2015.7 in /Library/Frameworks/Python.framework/Versions/3.9/lib/python3.9/site-packages (from babel->jupyterlab-server~=2.3->jupyterlab) (2021.1)\n",
      "Requirement already satisfied: appnope in /Library/Frameworks/Python.framework/Versions/3.9/lib/python3.9/site-packages (from ipykernel->notebook<7->nbclassic~=0.2->jupyterlab) (0.1.2)\n",
      "Requirement already satisfied: debugpy<2.0,>=1.0.0 in /Library/Frameworks/Python.framework/Versions/3.9/lib/python3.9/site-packages (from ipykernel->notebook<7->nbclassic~=0.2->jupyterlab) (1.4.1)\n",
      "Requirement already satisfied: matplotlib-inline<0.2.0,>=0.1.0 in /Library/Frameworks/Python.framework/Versions/3.9/lib/python3.9/site-packages (from ipykernel->notebook<7->nbclassic~=0.2->jupyterlab) (0.1.2)\n",
      "Requirement already satisfied: pexpect>4.3 in /Library/Frameworks/Python.framework/Versions/3.9/lib/python3.9/site-packages (from ipython->jupyterlab) (4.8.0)\n",
      "Requirement already satisfied: jedi>=0.16 in /Library/Frameworks/Python.framework/Versions/3.9/lib/python3.9/site-packages (from ipython->jupyterlab) (0.18.0)\n",
      "Requirement already satisfied: decorator in /Library/Frameworks/Python.framework/Versions/3.9/lib/python3.9/site-packages (from ipython->jupyterlab) (5.0.9)\n",
      "Requirement already satisfied: pickleshare in /Library/Frameworks/Python.framework/Versions/3.9/lib/python3.9/site-packages (from ipython->jupyterlab) (0.7.5)\n",
      "Requirement already satisfied: prompt-toolkit!=3.0.0,!=3.0.1,<3.1.0,>=2.0.0 in /Library/Frameworks/Python.framework/Versions/3.9/lib/python3.9/site-packages (from ipython->jupyterlab) (3.0.19)\n",
      "Requirement already satisfied: pygments in /Library/Frameworks/Python.framework/Versions/3.9/lib/python3.9/site-packages (from ipython->jupyterlab) (2.9.0)\n",
      "Requirement already satisfied: backcall in /Library/Frameworks/Python.framework/Versions/3.9/lib/python3.9/site-packages (from ipython->jupyterlab) (0.2.0)\n",
      "Requirement already satisfied: parso<0.9.0,>=0.8.0 in /Library/Frameworks/Python.framework/Versions/3.9/lib/python3.9/site-packages (from jedi>=0.16->ipython->jupyterlab) (0.8.2)\n"
     ]
    },
    {
     "name": "stdout",
     "output_type": "stream",
     "text": [
      "Requirement already satisfied: wcwidth in /Library/Frameworks/Python.framework/Versions/3.9/lib/python3.9/site-packages (from prompt-toolkit!=3.0.0,!=3.0.1,<3.1.0,>=2.0.0->ipython->jupyterlab) (0.2.5)\n",
      "Requirement already satisfied: entrypoints>=0.2.2 in /Library/Frameworks/Python.framework/Versions/3.9/lib/python3.9/site-packages (from nbconvert->jupyter-server~=1.4->jupyterlab) (0.3)\n",
      "Requirement already satisfied: defusedxml in /Library/Frameworks/Python.framework/Versions/3.9/lib/python3.9/site-packages (from nbconvert->jupyter-server~=1.4->jupyterlab) (0.7.1)\n",
      "Requirement already satisfied: nbclient<0.6.0,>=0.5.0 in /Library/Frameworks/Python.framework/Versions/3.9/lib/python3.9/site-packages (from nbconvert->jupyter-server~=1.4->jupyterlab) (0.5.3)\n",
      "Requirement already satisfied: pandocfilters>=1.4.1 in /Library/Frameworks/Python.framework/Versions/3.9/lib/python3.9/site-packages (from nbconvert->jupyter-server~=1.4->jupyterlab) (1.4.3)\n",
      "Requirement already satisfied: mistune<2,>=0.8.1 in /Library/Frameworks/Python.framework/Versions/3.9/lib/python3.9/site-packages (from nbconvert->jupyter-server~=1.4->jupyterlab) (0.8.4)\n",
      "Requirement already satisfied: bleach in /Library/Frameworks/Python.framework/Versions/3.9/lib/python3.9/site-packages (from nbconvert->jupyter-server~=1.4->jupyterlab) (3.3.1)\n",
      "Requirement already satisfied: testpath in /Library/Frameworks/Python.framework/Versions/3.9/lib/python3.9/site-packages (from nbconvert->jupyter-server~=1.4->jupyterlab) (0.5.0)\n",
      "Requirement already satisfied: jupyterlab-pygments in /Library/Frameworks/Python.framework/Versions/3.9/lib/python3.9/site-packages (from nbconvert->jupyter-server~=1.4->jupyterlab) (0.1.2)\n",
      "Requirement already satisfied: nest-asyncio in /Library/Frameworks/Python.framework/Versions/3.9/lib/python3.9/site-packages (from nbclient<0.6.0,>=0.5.0->nbconvert->jupyter-server~=1.4->jupyterlab) (1.5.1)\n",
      "Requirement already satisfied: async-generator in /Library/Frameworks/Python.framework/Versions/3.9/lib/python3.9/site-packages (from nbclient<0.6.0,>=0.5.0->nbconvert->jupyter-server~=1.4->jupyterlab) (1.10)\n",
      "Requirement already satisfied: webencodings in /Library/Frameworks/Python.framework/Versions/3.9/lib/python3.9/site-packages (from bleach->nbconvert->jupyter-server~=1.4->jupyterlab) (0.5.1)\n",
      "Requirement already satisfied: pyparsing>=2.0.2 in /Library/Frameworks/Python.framework/Versions/3.9/lib/python3.9/site-packages (from packaging->jupyterlab) (2.4.7)\n",
      "Requirement already satisfied: charset-normalizer~=2.0.0 in /Library/Frameworks/Python.framework/Versions/3.9/lib/python3.9/site-packages (from requests->jupyterlab-server~=2.3->jupyterlab) (2.0.3)\n",
      "Requirement already satisfied: certifi>=2017.4.17 in /Library/Frameworks/Python.framework/Versions/3.9/lib/python3.9/site-packages (from requests->jupyterlab-server~=2.3->jupyterlab) (2021.5.30)\n",
      "Requirement already satisfied: urllib3<1.27,>=1.21.1 in /Library/Frameworks/Python.framework/Versions/3.9/lib/python3.9/site-packages (from requests->jupyterlab-server~=2.3->jupyterlab) (1.26.6)\n",
      "\u001b[33mWARNING: You are using pip version 21.1.3; however, version 21.2.4 is available.\n",
      "You should consider upgrading via the '/Library/Frameworks/Python.framework/Versions/3.9/bin/python3.9 -m pip install --upgrade pip' command.\u001b[0m\n",
      "Requirement already satisfied: biopython in /Library/Frameworks/Python.framework/Versions/3.9/lib/python3.9/site-packages (1.79)\n",
      "Requirement already satisfied: numpy in /Library/Frameworks/Python.framework/Versions/3.9/lib/python3.9/site-packages (from biopython) (1.21.1)\n",
      "\u001b[33mWARNING: You are using pip version 21.1.3; however, version 21.2.4 is available.\n",
      "You should consider upgrading via the '/Library/Frameworks/Python.framework/Versions/3.9/bin/python3.9 -m pip install --upgrade pip' command.\u001b[0m\n",
      "Requirement already satisfied: ipywidgets in /Library/Frameworks/Python.framework/Versions/3.9/lib/python3.9/site-packages (7.6.3)\n",
      "Requirement already satisfied: ipykernel>=4.5.1 in /Library/Frameworks/Python.framework/Versions/3.9/lib/python3.9/site-packages (from ipywidgets) (6.0.3)\n",
      "Requirement already satisfied: traitlets>=4.3.1 in /Library/Frameworks/Python.framework/Versions/3.9/lib/python3.9/site-packages (from ipywidgets) (5.0.5)\n",
      "Requirement already satisfied: widgetsnbextension~=3.5.0 in /Library/Frameworks/Python.framework/Versions/3.9/lib/python3.9/site-packages (from ipywidgets) (3.5.1)\n",
      "Requirement already satisfied: ipython>=4.0.0 in /Library/Frameworks/Python.framework/Versions/3.9/lib/python3.9/site-packages (from ipywidgets) (7.25.0)\n",
      "Requirement already satisfied: nbformat>=4.2.0 in /Library/Frameworks/Python.framework/Versions/3.9/lib/python3.9/site-packages (from ipywidgets) (5.1.3)\n",
      "Requirement already satisfied: jupyterlab-widgets>=1.0.0 in /Library/Frameworks/Python.framework/Versions/3.9/lib/python3.9/site-packages (from ipywidgets) (1.0.0)\n",
      "Requirement already satisfied: appnope in /Library/Frameworks/Python.framework/Versions/3.9/lib/python3.9/site-packages (from ipykernel>=4.5.1->ipywidgets) (0.1.2)\n",
      "Requirement already satisfied: jupyter-client<7.0 in /Library/Frameworks/Python.framework/Versions/3.9/lib/python3.9/site-packages (from ipykernel>=4.5.1->ipywidgets) (6.1.12)\n",
      "Requirement already satisfied: matplotlib-inline<0.2.0,>=0.1.0 in /Library/Frameworks/Python.framework/Versions/3.9/lib/python3.9/site-packages (from ipykernel>=4.5.1->ipywidgets) (0.1.2)\n",
      "Requirement already satisfied: debugpy<2.0,>=1.0.0 in /Library/Frameworks/Python.framework/Versions/3.9/lib/python3.9/site-packages (from ipykernel>=4.5.1->ipywidgets) (1.4.1)\n",
      "Requirement already satisfied: tornado<7.0,>=4.2 in /Library/Frameworks/Python.framework/Versions/3.9/lib/python3.9/site-packages (from ipykernel>=4.5.1->ipywidgets) (6.1)\n",
      "Requirement already satisfied: prompt-toolkit!=3.0.0,!=3.0.1,<3.1.0,>=2.0.0 in /Library/Frameworks/Python.framework/Versions/3.9/lib/python3.9/site-packages (from ipython>=4.0.0->ipywidgets) (3.0.19)\n",
      "Requirement already satisfied: pexpect>4.3 in /Library/Frameworks/Python.framework/Versions/3.9/lib/python3.9/site-packages (from ipython>=4.0.0->ipywidgets) (4.8.0)\n",
      "Requirement already satisfied: pygments in /Library/Frameworks/Python.framework/Versions/3.9/lib/python3.9/site-packages (from ipython>=4.0.0->ipywidgets) (2.9.0)\n",
      "Requirement already satisfied: setuptools>=18.5 in /Library/Frameworks/Python.framework/Versions/3.9/lib/python3.9/site-packages (from ipython>=4.0.0->ipywidgets) (56.0.0)\n",
      "Requirement already satisfied: backcall in /Library/Frameworks/Python.framework/Versions/3.9/lib/python3.9/site-packages (from ipython>=4.0.0->ipywidgets) (0.2.0)\n",
      "Requirement already satisfied: decorator in /Library/Frameworks/Python.framework/Versions/3.9/lib/python3.9/site-packages (from ipython>=4.0.0->ipywidgets) (5.0.9)\n",
      "Requirement already satisfied: pickleshare in /Library/Frameworks/Python.framework/Versions/3.9/lib/python3.9/site-packages (from ipython>=4.0.0->ipywidgets) (0.7.5)\n",
      "Requirement already satisfied: jedi>=0.16 in /Library/Frameworks/Python.framework/Versions/3.9/lib/python3.9/site-packages (from ipython>=4.0.0->ipywidgets) (0.18.0)\n",
      "Requirement already satisfied: parso<0.9.0,>=0.8.0 in /Library/Frameworks/Python.framework/Versions/3.9/lib/python3.9/site-packages (from jedi>=0.16->ipython>=4.0.0->ipywidgets) (0.8.2)\n",
      "Requirement already satisfied: jupyter-core>=4.6.0 in /Library/Frameworks/Python.framework/Versions/3.9/lib/python3.9/site-packages (from jupyter-client<7.0->ipykernel>=4.5.1->ipywidgets) (4.7.1)\n",
      "Requirement already satisfied: pyzmq>=13 in /Library/Frameworks/Python.framework/Versions/3.9/lib/python3.9/site-packages (from jupyter-client<7.0->ipykernel>=4.5.1->ipywidgets) (22.1.0)\n",
      "Requirement already satisfied: python-dateutil>=2.1 in /Library/Frameworks/Python.framework/Versions/3.9/lib/python3.9/site-packages (from jupyter-client<7.0->ipykernel>=4.5.1->ipywidgets) (2.8.2)\n",
      "Requirement already satisfied: ipython-genutils in /Library/Frameworks/Python.framework/Versions/3.9/lib/python3.9/site-packages (from nbformat>=4.2.0->ipywidgets) (0.2.0)\n",
      "Requirement already satisfied: jsonschema!=2.5.0,>=2.4 in /Library/Frameworks/Python.framework/Versions/3.9/lib/python3.9/site-packages (from nbformat>=4.2.0->ipywidgets) (3.2.0)\n",
      "Requirement already satisfied: pyrsistent>=0.14.0 in /Library/Frameworks/Python.framework/Versions/3.9/lib/python3.9/site-packages (from jsonschema!=2.5.0,>=2.4->nbformat>=4.2.0->ipywidgets) (0.18.0)\n",
      "Requirement already satisfied: six>=1.11.0 in /Library/Frameworks/Python.framework/Versions/3.9/lib/python3.9/site-packages (from jsonschema!=2.5.0,>=2.4->nbformat>=4.2.0->ipywidgets) (1.16.0)\n",
      "Requirement already satisfied: attrs>=17.4.0 in /Library/Frameworks/Python.framework/Versions/3.9/lib/python3.9/site-packages (from jsonschema!=2.5.0,>=2.4->nbformat>=4.2.0->ipywidgets) (21.2.0)\n"
     ]
    },
    {
     "name": "stdout",
     "output_type": "stream",
     "text": [
      "Requirement already satisfied: ptyprocess>=0.5 in /Library/Frameworks/Python.framework/Versions/3.9/lib/python3.9/site-packages (from pexpect>4.3->ipython>=4.0.0->ipywidgets) (0.7.0)\n",
      "Requirement already satisfied: wcwidth in /Library/Frameworks/Python.framework/Versions/3.9/lib/python3.9/site-packages (from prompt-toolkit!=3.0.0,!=3.0.1,<3.1.0,>=2.0.0->ipython>=4.0.0->ipywidgets) (0.2.5)\n",
      "Requirement already satisfied: notebook>=4.4.1 in /Library/Frameworks/Python.framework/Versions/3.9/lib/python3.9/site-packages (from widgetsnbextension~=3.5.0->ipywidgets) (6.4.0)\n",
      "Requirement already satisfied: argon2-cffi in /Library/Frameworks/Python.framework/Versions/3.9/lib/python3.9/site-packages (from notebook>=4.4.1->widgetsnbextension~=3.5.0->ipywidgets) (20.1.0)\n",
      "Requirement already satisfied: Send2Trash>=1.5.0 in /Library/Frameworks/Python.framework/Versions/3.9/lib/python3.9/site-packages (from notebook>=4.4.1->widgetsnbextension~=3.5.0->ipywidgets) (1.7.1)\n",
      "Requirement already satisfied: prometheus-client in /Library/Frameworks/Python.framework/Versions/3.9/lib/python3.9/site-packages (from notebook>=4.4.1->widgetsnbextension~=3.5.0->ipywidgets) (0.11.0)\n",
      "Requirement already satisfied: terminado>=0.8.3 in /Library/Frameworks/Python.framework/Versions/3.9/lib/python3.9/site-packages (from notebook>=4.4.1->widgetsnbextension~=3.5.0->ipywidgets) (0.10.1)\n",
      "Requirement already satisfied: jinja2 in /Library/Frameworks/Python.framework/Versions/3.9/lib/python3.9/site-packages (from notebook>=4.4.1->widgetsnbextension~=3.5.0->ipywidgets) (3.0.1)\n",
      "Requirement already satisfied: nbconvert in /Library/Frameworks/Python.framework/Versions/3.9/lib/python3.9/site-packages (from notebook>=4.4.1->widgetsnbextension~=3.5.0->ipywidgets) (6.1.0)\n",
      "Requirement already satisfied: cffi>=1.0.0 in /Library/Frameworks/Python.framework/Versions/3.9/lib/python3.9/site-packages (from argon2-cffi->notebook>=4.4.1->widgetsnbextension~=3.5.0->ipywidgets) (1.14.6)\n",
      "Requirement already satisfied: pycparser in /Library/Frameworks/Python.framework/Versions/3.9/lib/python3.9/site-packages (from cffi>=1.0.0->argon2-cffi->notebook>=4.4.1->widgetsnbextension~=3.5.0->ipywidgets) (2.20)\n",
      "Requirement already satisfied: MarkupSafe>=2.0 in /Library/Frameworks/Python.framework/Versions/3.9/lib/python3.9/site-packages (from jinja2->notebook>=4.4.1->widgetsnbextension~=3.5.0->ipywidgets) (2.0.1)\n",
      "Requirement already satisfied: defusedxml in /Library/Frameworks/Python.framework/Versions/3.9/lib/python3.9/site-packages (from nbconvert->notebook>=4.4.1->widgetsnbextension~=3.5.0->ipywidgets) (0.7.1)\n",
      "Requirement already satisfied: mistune<2,>=0.8.1 in /Library/Frameworks/Python.framework/Versions/3.9/lib/python3.9/site-packages (from nbconvert->notebook>=4.4.1->widgetsnbextension~=3.5.0->ipywidgets) (0.8.4)\n",
      "Requirement already satisfied: testpath in /Library/Frameworks/Python.framework/Versions/3.9/lib/python3.9/site-packages (from nbconvert->notebook>=4.4.1->widgetsnbextension~=3.5.0->ipywidgets) (0.5.0)\n",
      "Requirement already satisfied: bleach in /Library/Frameworks/Python.framework/Versions/3.9/lib/python3.9/site-packages (from nbconvert->notebook>=4.4.1->widgetsnbextension~=3.5.0->ipywidgets) (3.3.1)\n",
      "Requirement already satisfied: pandocfilters>=1.4.1 in /Library/Frameworks/Python.framework/Versions/3.9/lib/python3.9/site-packages (from nbconvert->notebook>=4.4.1->widgetsnbextension~=3.5.0->ipywidgets) (1.4.3)\n",
      "Requirement already satisfied: entrypoints>=0.2.2 in /Library/Frameworks/Python.framework/Versions/3.9/lib/python3.9/site-packages (from nbconvert->notebook>=4.4.1->widgetsnbextension~=3.5.0->ipywidgets) (0.3)\n",
      "Requirement already satisfied: jupyterlab-pygments in /Library/Frameworks/Python.framework/Versions/3.9/lib/python3.9/site-packages (from nbconvert->notebook>=4.4.1->widgetsnbextension~=3.5.0->ipywidgets) (0.1.2)\n",
      "Requirement already satisfied: nbclient<0.6.0,>=0.5.0 in /Library/Frameworks/Python.framework/Versions/3.9/lib/python3.9/site-packages (from nbconvert->notebook>=4.4.1->widgetsnbextension~=3.5.0->ipywidgets) (0.5.3)\n",
      "Requirement already satisfied: nest-asyncio in /Library/Frameworks/Python.framework/Versions/3.9/lib/python3.9/site-packages (from nbclient<0.6.0,>=0.5.0->nbconvert->notebook>=4.4.1->widgetsnbextension~=3.5.0->ipywidgets) (1.5.1)\n",
      "Requirement already satisfied: async-generator in /Library/Frameworks/Python.framework/Versions/3.9/lib/python3.9/site-packages (from nbclient<0.6.0,>=0.5.0->nbconvert->notebook>=4.4.1->widgetsnbextension~=3.5.0->ipywidgets) (1.10)\n",
      "Requirement already satisfied: webencodings in /Library/Frameworks/Python.framework/Versions/3.9/lib/python3.9/site-packages (from bleach->nbconvert->notebook>=4.4.1->widgetsnbextension~=3.5.0->ipywidgets) (0.5.1)\n",
      "Requirement already satisfied: packaging in /Library/Frameworks/Python.framework/Versions/3.9/lib/python3.9/site-packages (from bleach->nbconvert->notebook>=4.4.1->widgetsnbextension~=3.5.0->ipywidgets) (21.0)\n",
      "Requirement already satisfied: pyparsing>=2.0.2 in /Library/Frameworks/Python.framework/Versions/3.9/lib/python3.9/site-packages (from packaging->bleach->nbconvert->notebook>=4.4.1->widgetsnbextension~=3.5.0->ipywidgets) (2.4.7)\n",
      "\u001b[33mWARNING: You are using pip version 21.1.3; however, version 21.2.4 is available.\n",
      "You should consider upgrading via the '/Library/Frameworks/Python.framework/Versions/3.9/bin/python3.9 -m pip install --upgrade pip' command.\u001b[0m\n",
      "Requirement already satisfied: nglview in /Library/Frameworks/Python.framework/Versions/3.9/lib/python3.9/site-packages (3.0.3)\n",
      "Requirement already satisfied: ipywidgets>=7 in /Library/Frameworks/Python.framework/Versions/3.9/lib/python3.9/site-packages (from nglview) (7.6.3)\n",
      "Requirement already satisfied: jupyterlab-widgets in /Library/Frameworks/Python.framework/Versions/3.9/lib/python3.9/site-packages (from nglview) (1.0.0)\n",
      "Requirement already satisfied: numpy in /Library/Frameworks/Python.framework/Versions/3.9/lib/python3.9/site-packages (from nglview) (1.21.1)\n",
      "Requirement already satisfied: nbformat>=4.2.0 in /Library/Frameworks/Python.framework/Versions/3.9/lib/python3.9/site-packages (from ipywidgets>=7->nglview) (5.1.3)\n",
      "Requirement already satisfied: ipykernel>=4.5.1 in /Library/Frameworks/Python.framework/Versions/3.9/lib/python3.9/site-packages (from ipywidgets>=7->nglview) (6.0.3)\n",
      "Requirement already satisfied: traitlets>=4.3.1 in /Library/Frameworks/Python.framework/Versions/3.9/lib/python3.9/site-packages (from ipywidgets>=7->nglview) (5.0.5)\n",
      "Requirement already satisfied: ipython>=4.0.0 in /Library/Frameworks/Python.framework/Versions/3.9/lib/python3.9/site-packages (from ipywidgets>=7->nglview) (7.25.0)\n",
      "Requirement already satisfied: widgetsnbextension~=3.5.0 in /Library/Frameworks/Python.framework/Versions/3.9/lib/python3.9/site-packages (from ipywidgets>=7->nglview) (3.5.1)\n",
      "Requirement already satisfied: tornado<7.0,>=4.2 in /Library/Frameworks/Python.framework/Versions/3.9/lib/python3.9/site-packages (from ipykernel>=4.5.1->ipywidgets>=7->nglview) (6.1)\n",
      "Requirement already satisfied: appnope in /Library/Frameworks/Python.framework/Versions/3.9/lib/python3.9/site-packages (from ipykernel>=4.5.1->ipywidgets>=7->nglview) (0.1.2)\n",
      "Requirement already satisfied: jupyter-client<7.0 in /Library/Frameworks/Python.framework/Versions/3.9/lib/python3.9/site-packages (from ipykernel>=4.5.1->ipywidgets>=7->nglview) (6.1.12)\n",
      "Requirement already satisfied: matplotlib-inline<0.2.0,>=0.1.0 in /Library/Frameworks/Python.framework/Versions/3.9/lib/python3.9/site-packages (from ipykernel>=4.5.1->ipywidgets>=7->nglview) (0.1.2)\n",
      "Requirement already satisfied: debugpy<2.0,>=1.0.0 in /Library/Frameworks/Python.framework/Versions/3.9/lib/python3.9/site-packages (from ipykernel>=4.5.1->ipywidgets>=7->nglview) (1.4.1)\n",
      "Requirement already satisfied: jedi>=0.16 in /Library/Frameworks/Python.framework/Versions/3.9/lib/python3.9/site-packages (from ipython>=4.0.0->ipywidgets>=7->nglview) (0.18.0)\n",
      "Requirement already satisfied: prompt-toolkit!=3.0.0,!=3.0.1,<3.1.0,>=2.0.0 in /Library/Frameworks/Python.framework/Versions/3.9/lib/python3.9/site-packages (from ipython>=4.0.0->ipywidgets>=7->nglview) (3.0.19)\n",
      "Requirement already satisfied: setuptools>=18.5 in /Library/Frameworks/Python.framework/Versions/3.9/lib/python3.9/site-packages (from ipython>=4.0.0->ipywidgets>=7->nglview) (56.0.0)\n",
      "Requirement already satisfied: pickleshare in /Library/Frameworks/Python.framework/Versions/3.9/lib/python3.9/site-packages (from ipython>=4.0.0->ipywidgets>=7->nglview) (0.7.5)\n",
      "Requirement already satisfied: pygments in /Library/Frameworks/Python.framework/Versions/3.9/lib/python3.9/site-packages (from ipython>=4.0.0->ipywidgets>=7->nglview) (2.9.0)\n",
      "Requirement already satisfied: pexpect>4.3 in /Library/Frameworks/Python.framework/Versions/3.9/lib/python3.9/site-packages (from ipython>=4.0.0->ipywidgets>=7->nglview) (4.8.0)\n",
      "Requirement already satisfied: decorator in /Library/Frameworks/Python.framework/Versions/3.9/lib/python3.9/site-packages (from ipython>=4.0.0->ipywidgets>=7->nglview) (5.0.9)\n",
      "Requirement already satisfied: backcall in /Library/Frameworks/Python.framework/Versions/3.9/lib/python3.9/site-packages (from ipython>=4.0.0->ipywidgets>=7->nglview) (0.2.0)\n"
     ]
    },
    {
     "name": "stdout",
     "output_type": "stream",
     "text": [
      "Requirement already satisfied: parso<0.9.0,>=0.8.0 in /Library/Frameworks/Python.framework/Versions/3.9/lib/python3.9/site-packages (from jedi>=0.16->ipython>=4.0.0->ipywidgets>=7->nglview) (0.8.2)\n",
      "Requirement already satisfied: jupyter-core>=4.6.0 in /Library/Frameworks/Python.framework/Versions/3.9/lib/python3.9/site-packages (from jupyter-client<7.0->ipykernel>=4.5.1->ipywidgets>=7->nglview) (4.7.1)\n",
      "Requirement already satisfied: python-dateutil>=2.1 in /Library/Frameworks/Python.framework/Versions/3.9/lib/python3.9/site-packages (from jupyter-client<7.0->ipykernel>=4.5.1->ipywidgets>=7->nglview) (2.8.2)\n",
      "Requirement already satisfied: pyzmq>=13 in /Library/Frameworks/Python.framework/Versions/3.9/lib/python3.9/site-packages (from jupyter-client<7.0->ipykernel>=4.5.1->ipywidgets>=7->nglview) (22.1.0)\n",
      "Requirement already satisfied: jsonschema!=2.5.0,>=2.4 in /Library/Frameworks/Python.framework/Versions/3.9/lib/python3.9/site-packages (from nbformat>=4.2.0->ipywidgets>=7->nglview) (3.2.0)\n",
      "Requirement already satisfied: ipython-genutils in /Library/Frameworks/Python.framework/Versions/3.9/lib/python3.9/site-packages (from nbformat>=4.2.0->ipywidgets>=7->nglview) (0.2.0)\n",
      "Requirement already satisfied: six>=1.11.0 in /Library/Frameworks/Python.framework/Versions/3.9/lib/python3.9/site-packages (from jsonschema!=2.5.0,>=2.4->nbformat>=4.2.0->ipywidgets>=7->nglview) (1.16.0)\n",
      "Requirement already satisfied: attrs>=17.4.0 in /Library/Frameworks/Python.framework/Versions/3.9/lib/python3.9/site-packages (from jsonschema!=2.5.0,>=2.4->nbformat>=4.2.0->ipywidgets>=7->nglview) (21.2.0)\n",
      "Requirement already satisfied: pyrsistent>=0.14.0 in /Library/Frameworks/Python.framework/Versions/3.9/lib/python3.9/site-packages (from jsonschema!=2.5.0,>=2.4->nbformat>=4.2.0->ipywidgets>=7->nglview) (0.18.0)\n",
      "Requirement already satisfied: ptyprocess>=0.5 in /Library/Frameworks/Python.framework/Versions/3.9/lib/python3.9/site-packages (from pexpect>4.3->ipython>=4.0.0->ipywidgets>=7->nglview) (0.7.0)\n",
      "Requirement already satisfied: wcwidth in /Library/Frameworks/Python.framework/Versions/3.9/lib/python3.9/site-packages (from prompt-toolkit!=3.0.0,!=3.0.1,<3.1.0,>=2.0.0->ipython>=4.0.0->ipywidgets>=7->nglview) (0.2.5)\n",
      "Requirement already satisfied: notebook>=4.4.1 in /Library/Frameworks/Python.framework/Versions/3.9/lib/python3.9/site-packages (from widgetsnbextension~=3.5.0->ipywidgets>=7->nglview) (6.4.0)\n",
      "Requirement already satisfied: Send2Trash>=1.5.0 in /Library/Frameworks/Python.framework/Versions/3.9/lib/python3.9/site-packages (from notebook>=4.4.1->widgetsnbextension~=3.5.0->ipywidgets>=7->nglview) (1.7.1)\n",
      "Requirement already satisfied: terminado>=0.8.3 in /Library/Frameworks/Python.framework/Versions/3.9/lib/python3.9/site-packages (from notebook>=4.4.1->widgetsnbextension~=3.5.0->ipywidgets>=7->nglview) (0.10.1)\n",
      "Requirement already satisfied: argon2-cffi in /Library/Frameworks/Python.framework/Versions/3.9/lib/python3.9/site-packages (from notebook>=4.4.1->widgetsnbextension~=3.5.0->ipywidgets>=7->nglview) (20.1.0)\n",
      "Requirement already satisfied: nbconvert in /Library/Frameworks/Python.framework/Versions/3.9/lib/python3.9/site-packages (from notebook>=4.4.1->widgetsnbextension~=3.5.0->ipywidgets>=7->nglview) (6.1.0)\n",
      "Requirement already satisfied: prometheus-client in /Library/Frameworks/Python.framework/Versions/3.9/lib/python3.9/site-packages (from notebook>=4.4.1->widgetsnbextension~=3.5.0->ipywidgets>=7->nglview) (0.11.0)\n",
      "Requirement already satisfied: jinja2 in /Library/Frameworks/Python.framework/Versions/3.9/lib/python3.9/site-packages (from notebook>=4.4.1->widgetsnbextension~=3.5.0->ipywidgets>=7->nglview) (3.0.1)\n",
      "Requirement already satisfied: cffi>=1.0.0 in /Library/Frameworks/Python.framework/Versions/3.9/lib/python3.9/site-packages (from argon2-cffi->notebook>=4.4.1->widgetsnbextension~=3.5.0->ipywidgets>=7->nglview) (1.14.6)\n",
      "Requirement already satisfied: pycparser in /Library/Frameworks/Python.framework/Versions/3.9/lib/python3.9/site-packages (from cffi>=1.0.0->argon2-cffi->notebook>=4.4.1->widgetsnbextension~=3.5.0->ipywidgets>=7->nglview) (2.20)\n",
      "Requirement already satisfied: MarkupSafe>=2.0 in /Library/Frameworks/Python.framework/Versions/3.9/lib/python3.9/site-packages (from jinja2->notebook>=4.4.1->widgetsnbextension~=3.5.0->ipywidgets>=7->nglview) (2.0.1)\n",
      "Requirement already satisfied: mistune<2,>=0.8.1 in /Library/Frameworks/Python.framework/Versions/3.9/lib/python3.9/site-packages (from nbconvert->notebook>=4.4.1->widgetsnbextension~=3.5.0->ipywidgets>=7->nglview) (0.8.4)\n",
      "Requirement already satisfied: pandocfilters>=1.4.1 in /Library/Frameworks/Python.framework/Versions/3.9/lib/python3.9/site-packages (from nbconvert->notebook>=4.4.1->widgetsnbextension~=3.5.0->ipywidgets>=7->nglview) (1.4.3)\n",
      "Requirement already satisfied: testpath in /Library/Frameworks/Python.framework/Versions/3.9/lib/python3.9/site-packages (from nbconvert->notebook>=4.4.1->widgetsnbextension~=3.5.0->ipywidgets>=7->nglview) (0.5.0)\n",
      "Requirement already satisfied: entrypoints>=0.2.2 in /Library/Frameworks/Python.framework/Versions/3.9/lib/python3.9/site-packages (from nbconvert->notebook>=4.4.1->widgetsnbextension~=3.5.0->ipywidgets>=7->nglview) (0.3)\n",
      "Requirement already satisfied: nbclient<0.6.0,>=0.5.0 in /Library/Frameworks/Python.framework/Versions/3.9/lib/python3.9/site-packages (from nbconvert->notebook>=4.4.1->widgetsnbextension~=3.5.0->ipywidgets>=7->nglview) (0.5.3)\n",
      "Requirement already satisfied: defusedxml in /Library/Frameworks/Python.framework/Versions/3.9/lib/python3.9/site-packages (from nbconvert->notebook>=4.4.1->widgetsnbextension~=3.5.0->ipywidgets>=7->nglview) (0.7.1)\n",
      "Requirement already satisfied: bleach in /Library/Frameworks/Python.framework/Versions/3.9/lib/python3.9/site-packages (from nbconvert->notebook>=4.4.1->widgetsnbextension~=3.5.0->ipywidgets>=7->nglview) (3.3.1)\n",
      "Requirement already satisfied: jupyterlab-pygments in /Library/Frameworks/Python.framework/Versions/3.9/lib/python3.9/site-packages (from nbconvert->notebook>=4.4.1->widgetsnbextension~=3.5.0->ipywidgets>=7->nglview) (0.1.2)\n",
      "Requirement already satisfied: nest-asyncio in /Library/Frameworks/Python.framework/Versions/3.9/lib/python3.9/site-packages (from nbclient<0.6.0,>=0.5.0->nbconvert->notebook>=4.4.1->widgetsnbextension~=3.5.0->ipywidgets>=7->nglview) (1.5.1)\n",
      "Requirement already satisfied: async-generator in /Library/Frameworks/Python.framework/Versions/3.9/lib/python3.9/site-packages (from nbclient<0.6.0,>=0.5.0->nbconvert->notebook>=4.4.1->widgetsnbextension~=3.5.0->ipywidgets>=7->nglview) (1.10)\n",
      "Requirement already satisfied: webencodings in /Library/Frameworks/Python.framework/Versions/3.9/lib/python3.9/site-packages (from bleach->nbconvert->notebook>=4.4.1->widgetsnbextension~=3.5.0->ipywidgets>=7->nglview) (0.5.1)\n",
      "Requirement already satisfied: packaging in /Library/Frameworks/Python.framework/Versions/3.9/lib/python3.9/site-packages (from bleach->nbconvert->notebook>=4.4.1->widgetsnbextension~=3.5.0->ipywidgets>=7->nglview) (21.0)\n",
      "Requirement already satisfied: pyparsing>=2.0.2 in /Library/Frameworks/Python.framework/Versions/3.9/lib/python3.9/site-packages (from packaging->bleach->nbconvert->notebook>=4.4.1->widgetsnbextension~=3.5.0->ipywidgets>=7->nglview) (2.4.7)\n",
      "\u001b[33mWARNING: You are using pip version 21.1.3; however, version 21.2.4 is available.\n",
      "You should consider upgrading via the '/Library/Frameworks/Python.framework/Versions/3.9/bin/python3.9 -m pip install --upgrade pip' command.\u001b[0m\n",
      "Building jupyterlab assets (production, minimized)\n",
      "An error occurred.\n",
      "RuntimeError: JupyterLab failed to build\n",
      "See the log file for details:  /var/folders/xn/_8hvmw8d3tsfm77f_6kvmy180000gn/T/jupyterlab-debug-abc1rkxn.log\n",
      "Building jupyterlab assets (production, minimized)\n",
      "An error occurred.\n",
      "RuntimeError: JupyterLab failed to build\n",
      "See the log file for details:  /var/folders/xn/_8hvmw8d3tsfm77f_6kvmy180000gn/T/jupyterlab-debug-5zahd4wl.log\n"
     ]
    }
   ],
   "source": [
    "!pip3 install jupyterlab\n",
    "!pip3 install biopython\n",
    "!pip3 install ipywidgets\n",
    "!pip3 install nglview\n",
    "!jupyter-labextension install @jupyter-widgets/jupyterlab-manager\n",
    "!jupyter-labextension install nglview-js-widgets@$nglviewversion"
   ]
  },
  {
   "cell_type": "markdown",
   "metadata": {},
   "source": [
    "## Setup environment"
   ]
  },
  {
   "cell_type": "code",
   "execution_count": 2,
   "metadata": {},
   "outputs": [
    {
     "data": {
      "application/vnd.jupyter.widget-view+json": {
       "model_id": "cf4078775295493f8ae1243aa1dcfed8",
       "version_major": 2,
       "version_minor": 0
      },
      "text/plain": []
     },
     "metadata": {},
     "output_type": "display_data"
    },
    {
     "name": "stdout",
     "output_type": "stream",
     "text": [
      "Python version sys.version_info(major=3, minor=9, micro=6, releaselevel='final', serial=0)\n",
      "Biopython version 1.79\n"
     ]
    }
   ],
   "source": [
    "import Bio\n",
    "from Bio.Seq import Seq\n",
    "import ipywidgets as widgets\n",
    "from Bio.PDB import *\n",
    "import os\n",
    "import sys\n",
    "import nglview as nv\n",
    "import platform\n",
    "print(\"Python version\",sys.version_info)\n",
    "print(\"Biopython version\", Bio.__version__)"
   ]
  },
  {
   "cell_type": "markdown",
   "metadata": {},
   "source": [
    "## Chapter 1 Substitution Matrices\n",
    "One of the fundamental operations in bioinformatics is comparing two sequences, either nucleic acids or proteins and line them up to archieve maximal levels of identity. This is called _**pairwise sequence alignment**_. Quantification of the similarity of the two sequences is important for establishing whether they are homologs. There are two widely used methods developed to quantify the similarity.\n",
    "\n",
    "- Method 1: align closely related homologs and counting the frequencies of amino acid substitutions.\n",
    "- Method 2: use a database of aligned sequences derived from protein domains that have a particular structure or function. The frequencies of amino acid substitutions are recorded.\n",
    "These two methods gave rise to the *PAM* and *BLOSUM* series of amino acid substitution matrices, respectively. These substitution matrices are used in many sequence alignment tools.\n",
    "\n"
   ]
  },
  {
   "cell_type": "code",
   "execution_count": 3,
   "metadata": {},
   "outputs": [
    {
     "name": "stdout",
     "output_type": "stream",
     "text": [
      "#  Matrix made by matblas from blosum62.iij\n",
      "#  * column uses minimum score\n",
      "#  BLOSUM Clustered Scoring Matrix in 1/2 Bit Units\n",
      "#  Blocks Database = /data/blocks_5.0/blocks.dat\n",
      "#  Cluster Percentage: >= 62\n",
      "#  Entropy =   0.6979, Expected =  -0.5209\n",
      "     A    R    N    D    C    Q    E    G    H    I    L    K    M    F    P    S    T    W    Y    V    B    Z    X    *\n",
      "A  4.0 -1.0 -2.0 -2.0  0.0 -1.0 -1.0  0.0 -2.0 -1.0 -1.0 -1.0 -1.0 -2.0 -1.0  1.0  0.0 -3.0 -2.0  0.0 -2.0 -1.0  0.0 -4.0\n",
      "R -1.0  5.0  0.0 -2.0 -3.0  1.0  0.0 -2.0  0.0 -3.0 -2.0  2.0 -1.0 -3.0 -2.0 -1.0 -1.0 -3.0 -2.0 -3.0 -1.0  0.0 -1.0 -4.0\n",
      "N -2.0  0.0  6.0  1.0 -3.0  0.0  0.0  0.0  1.0 -3.0 -3.0  0.0 -2.0 -3.0 -2.0  1.0  0.0 -4.0 -2.0 -3.0  3.0  0.0 -1.0 -4.0\n",
      "D -2.0 -2.0  1.0  6.0 -3.0  0.0  2.0 -1.0 -1.0 -3.0 -4.0 -1.0 -3.0 -3.0 -1.0  0.0 -1.0 -4.0 -3.0 -3.0  4.0  1.0 -1.0 -4.0\n",
      "C  0.0 -3.0 -3.0 -3.0  9.0 -3.0 -4.0 -3.0 -3.0 -1.0 -1.0 -3.0 -1.0 -2.0 -3.0 -1.0 -1.0 -2.0 -2.0 -1.0 -3.0 -3.0 -2.0 -4.0\n",
      "Q -1.0  1.0  0.0  0.0 -3.0  5.0  2.0 -2.0  0.0 -3.0 -2.0  1.0  0.0 -3.0 -1.0  0.0 -1.0 -2.0 -1.0 -2.0  0.0  3.0 -1.0 -4.0\n",
      "E -1.0  0.0  0.0  2.0 -4.0  2.0  5.0 -2.0  0.0 -3.0 -3.0  1.0 -2.0 -3.0 -1.0  0.0 -1.0 -3.0 -2.0 -2.0  1.0  4.0 -1.0 -4.0\n",
      "G  0.0 -2.0  0.0 -1.0 -3.0 -2.0 -2.0  6.0 -2.0 -4.0 -4.0 -2.0 -3.0 -3.0 -2.0  0.0 -2.0 -2.0 -3.0 -3.0 -1.0 -2.0 -1.0 -4.0\n",
      "H -2.0  0.0  1.0 -1.0 -3.0  0.0  0.0 -2.0  8.0 -3.0 -3.0 -1.0 -2.0 -1.0 -2.0 -1.0 -2.0 -2.0  2.0 -3.0  0.0  0.0 -1.0 -4.0\n",
      "I -1.0 -3.0 -3.0 -3.0 -1.0 -3.0 -3.0 -4.0 -3.0  4.0  2.0 -3.0  1.0  0.0 -3.0 -2.0 -1.0 -3.0 -1.0  3.0 -3.0 -3.0 -1.0 -4.0\n",
      "L -1.0 -2.0 -3.0 -4.0 -1.0 -2.0 -3.0 -4.0 -3.0  2.0  4.0 -2.0  2.0  0.0 -3.0 -2.0 -1.0 -2.0 -1.0  1.0 -4.0 -3.0 -1.0 -4.0\n",
      "K -1.0  2.0  0.0 -1.0 -3.0  1.0  1.0 -2.0 -1.0 -3.0 -2.0  5.0 -1.0 -3.0 -1.0  0.0 -1.0 -3.0 -2.0 -2.0  0.0  1.0 -1.0 -4.0\n",
      "M -1.0 -1.0 -2.0 -3.0 -1.0  0.0 -2.0 -3.0 -2.0  1.0  2.0 -1.0  5.0  0.0 -2.0 -1.0 -1.0 -1.0 -1.0  1.0 -3.0 -1.0 -1.0 -4.0\n",
      "F -2.0 -3.0 -3.0 -3.0 -2.0 -3.0 -3.0 -3.0 -1.0  0.0  0.0 -3.0  0.0  6.0 -4.0 -2.0 -2.0  1.0  3.0 -1.0 -3.0 -3.0 -1.0 -4.0\n",
      "P -1.0 -2.0 -2.0 -1.0 -3.0 -1.0 -1.0 -2.0 -2.0 -3.0 -3.0 -1.0 -2.0 -4.0  7.0 -1.0 -1.0 -4.0 -3.0 -2.0 -2.0 -1.0 -2.0 -4.0\n",
      "S  1.0 -1.0  1.0  0.0 -1.0  0.0  0.0  0.0 -1.0 -2.0 -2.0  0.0 -1.0 -2.0 -1.0  4.0  1.0 -3.0 -2.0 -2.0  0.0  0.0  0.0 -4.0\n",
      "T  0.0 -1.0  0.0 -1.0 -1.0 -1.0 -1.0 -2.0 -2.0 -1.0 -1.0 -1.0 -1.0 -2.0 -1.0  1.0  5.0 -2.0 -2.0  0.0 -1.0 -1.0  0.0 -4.0\n",
      "W -3.0 -3.0 -4.0 -4.0 -2.0 -2.0 -3.0 -2.0 -2.0 -3.0 -2.0 -3.0 -1.0  1.0 -4.0 -3.0 -2.0 11.0  2.0 -3.0 -4.0 -3.0 -2.0 -4.0\n",
      "Y -2.0 -2.0 -2.0 -3.0 -2.0 -1.0 -2.0 -3.0  2.0 -1.0 -1.0 -2.0 -1.0  3.0 -3.0 -2.0 -2.0  2.0  7.0 -1.0 -3.0 -2.0 -1.0 -4.0\n",
      "V  0.0 -3.0 -3.0 -3.0 -1.0 -2.0 -2.0 -3.0 -3.0  3.0  1.0 -2.0  1.0 -1.0 -2.0 -2.0  0.0 -3.0 -1.0  4.0 -3.0 -2.0 -1.0 -4.0\n",
      "B -2.0 -1.0  3.0  4.0 -3.0  0.0  1.0 -1.0  0.0 -3.0 -4.0  0.0 -3.0 -3.0 -2.0  0.0 -1.0 -4.0 -3.0 -3.0  4.0  1.0 -1.0 -4.0\n",
      "Z -1.0  0.0  0.0  1.0 -3.0  3.0  4.0 -2.0  0.0 -3.0 -3.0  1.0 -1.0 -3.0 -1.0  0.0 -1.0 -3.0 -2.0 -2.0  1.0  4.0 -1.0 -4.0\n",
      "X  0.0 -1.0 -1.0 -1.0 -2.0 -1.0 -1.0 -1.0 -1.0 -1.0 -1.0 -1.0 -1.0 -1.0 -2.0  0.0  0.0 -2.0 -1.0 -1.0 -1.0 -1.0 -1.0 -4.0\n",
      "* -4.0 -4.0 -4.0 -4.0 -4.0 -4.0 -4.0 -4.0 -4.0 -4.0 -4.0 -4.0 -4.0 -4.0 -4.0 -4.0 -4.0 -4.0 -4.0 -4.0 -4.0 -4.0 -4.0  1.0\n",
      "\n",
      "--------------------------------------------------------------------------------\n",
      "#  \n",
      "#  This matrix was produced by \"pam\" Version 1.0.6 [28-Jul-93]\n",
      "#  \n",
      "#  PAM 250 substitution matrix, scale = ln(2)/3 = 0.231049\n",
      "#  \n",
      "#  Expected score = -0.844, Entropy = 0.354 bits\n",
      "#  \n",
      "#  Lowest score = -8, Highest score = 17\n",
      "#  \n",
      "     A    R    N    D    C    Q    E    G    H    I    L    K    M    F    P    S    T    W    Y    V    B    Z    X    *\n",
      "A  2.0 -2.0  0.0  0.0 -2.0  0.0  0.0  1.0 -1.0 -1.0 -2.0 -1.0 -1.0 -3.0  1.0  1.0  1.0 -6.0 -3.0  0.0  0.0  0.0  0.0 -8.0\n",
      "R -2.0  6.0  0.0 -1.0 -4.0  1.0 -1.0 -3.0  2.0 -2.0 -3.0  3.0  0.0 -4.0  0.0  0.0 -1.0  2.0 -4.0 -2.0 -1.0  0.0 -1.0 -8.0\n",
      "N  0.0  0.0  2.0  2.0 -4.0  1.0  1.0  0.0  2.0 -2.0 -3.0  1.0 -2.0 -3.0  0.0  1.0  0.0 -4.0 -2.0 -2.0  2.0  1.0  0.0 -8.0\n",
      "D  0.0 -1.0  2.0  4.0 -5.0  2.0  3.0  1.0  1.0 -2.0 -4.0  0.0 -3.0 -6.0 -1.0  0.0  0.0 -7.0 -4.0 -2.0  3.0  3.0 -1.0 -8.0\n",
      "C -2.0 -4.0 -4.0 -5.0 12.0 -5.0 -5.0 -3.0 -3.0 -2.0 -6.0 -5.0 -5.0 -4.0 -3.0  0.0 -2.0 -8.0  0.0 -2.0 -4.0 -5.0 -3.0 -8.0\n",
      "Q  0.0  1.0  1.0  2.0 -5.0  4.0  2.0 -1.0  3.0 -2.0 -2.0  1.0 -1.0 -5.0  0.0 -1.0 -1.0 -5.0 -4.0 -2.0  1.0  3.0 -1.0 -8.0\n",
      "E  0.0 -1.0  1.0  3.0 -5.0  2.0  4.0  0.0  1.0 -2.0 -3.0  0.0 -2.0 -5.0 -1.0  0.0  0.0 -7.0 -4.0 -2.0  3.0  3.0 -1.0 -8.0\n",
      "G  1.0 -3.0  0.0  1.0 -3.0 -1.0  0.0  5.0 -2.0 -3.0 -4.0 -2.0 -3.0 -5.0  0.0  1.0  0.0 -7.0 -5.0 -1.0  0.0  0.0 -1.0 -8.0\n",
      "H -1.0  2.0  2.0  1.0 -3.0  3.0  1.0 -2.0  6.0 -2.0 -2.0  0.0 -2.0 -2.0  0.0 -1.0 -1.0 -3.0  0.0 -2.0  1.0  2.0 -1.0 -8.0\n",
      "I -1.0 -2.0 -2.0 -2.0 -2.0 -2.0 -2.0 -3.0 -2.0  5.0  2.0 -2.0  2.0  1.0 -2.0 -1.0  0.0 -5.0 -1.0  4.0 -2.0 -2.0 -1.0 -8.0\n",
      "L -2.0 -3.0 -3.0 -4.0 -6.0 -2.0 -3.0 -4.0 -2.0  2.0  6.0 -3.0  4.0  2.0 -3.0 -3.0 -2.0 -2.0 -1.0  2.0 -3.0 -3.0 -1.0 -8.0\n",
      "K -1.0  3.0  1.0  0.0 -5.0  1.0  0.0 -2.0  0.0 -2.0 -3.0  5.0  0.0 -5.0 -1.0  0.0  0.0 -3.0 -4.0 -2.0  1.0  0.0 -1.0 -8.0\n",
      "M -1.0  0.0 -2.0 -3.0 -5.0 -1.0 -2.0 -3.0 -2.0  2.0  4.0  0.0  6.0  0.0 -2.0 -2.0 -1.0 -4.0 -2.0  2.0 -2.0 -2.0 -1.0 -8.0\n",
      "F -3.0 -4.0 -3.0 -6.0 -4.0 -5.0 -5.0 -5.0 -2.0  1.0  2.0 -5.0  0.0  9.0 -5.0 -3.0 -3.0  0.0  7.0 -1.0 -4.0 -5.0 -2.0 -8.0\n",
      "P  1.0  0.0  0.0 -1.0 -3.0  0.0 -1.0  0.0  0.0 -2.0 -3.0 -1.0 -2.0 -5.0  6.0  1.0  0.0 -6.0 -5.0 -1.0 -1.0  0.0 -1.0 -8.0\n",
      "S  1.0  0.0  1.0  0.0  0.0 -1.0  0.0  1.0 -1.0 -1.0 -3.0  0.0 -2.0 -3.0  1.0  2.0  1.0 -2.0 -3.0 -1.0  0.0  0.0  0.0 -8.0\n",
      "T  1.0 -1.0  0.0  0.0 -2.0 -1.0  0.0  0.0 -1.0  0.0 -2.0  0.0 -1.0 -3.0  0.0  1.0  3.0 -5.0 -3.0  0.0  0.0 -1.0  0.0 -8.0\n",
      "W -6.0  2.0 -4.0 -7.0 -8.0 -5.0 -7.0 -7.0 -3.0 -5.0 -2.0 -3.0 -4.0  0.0 -6.0 -2.0 -5.0 17.0  0.0 -6.0 -5.0 -6.0 -4.0 -8.0\n",
      "Y -3.0 -4.0 -2.0 -4.0  0.0 -4.0 -4.0 -5.0  0.0 -1.0 -1.0 -4.0 -2.0  7.0 -5.0 -3.0 -3.0  0.0 10.0 -2.0 -3.0 -4.0 -2.0 -8.0\n",
      "V  0.0 -2.0 -2.0 -2.0 -2.0 -2.0 -2.0 -1.0 -2.0  4.0  2.0 -2.0  2.0 -1.0 -1.0 -1.0  0.0 -6.0 -2.0  4.0 -2.0 -2.0 -1.0 -8.0\n",
      "B  0.0 -1.0  2.0  3.0 -4.0  1.0  3.0  0.0  1.0 -2.0 -3.0  1.0 -2.0 -4.0 -1.0  0.0  0.0 -5.0 -3.0 -2.0  3.0  2.0 -1.0 -8.0\n",
      "Z  0.0  0.0  1.0  3.0 -5.0  3.0  3.0  0.0  2.0 -2.0 -3.0  0.0 -2.0 -5.0  0.0  0.0 -1.0 -6.0 -4.0 -2.0  2.0  3.0 -1.0 -8.0\n",
      "X  0.0 -1.0  0.0 -1.0 -3.0 -1.0 -1.0 -1.0 -1.0 -1.0 -1.0 -1.0 -1.0 -2.0 -1.0  0.0  0.0 -4.0 -2.0 -1.0 -1.0 -1.0 -1.0 -8.0\n",
      "* -8.0 -8.0 -8.0 -8.0 -8.0 -8.0 -8.0 -8.0 -8.0 -8.0 -8.0 -8.0 -8.0 -8.0 -8.0 -8.0 -8.0 -8.0 -8.0 -8.0 -8.0 -8.0 -8.0  1.0\n",
      "\n"
     ]
    }
   ],
   "source": [
    "# this scriptlet display BLOSUM62 and PAM250 matrices\n",
    "from Bio.Align import substitution_matrices as smatrices\n",
    "blosum62 = smatrices.load(\"BLOSUM62\")\n",
    "pam250 = smatrices.load(\"PAM250\")\n",
    "print(blosum62)\n",
    "print(\"-\"*80)\n",
    "print(pam250)"
   ]
  },
  {
   "cell_type": "markdown",
   "metadata": {},
   "source": [
    "## Chapter 2 Molecular Graphics\n",
    "\n",
    "In this section, we use NGLView to display a structure of interest.\n"
   ]
  },
  {
   "cell_type": "code",
   "execution_count": 4,
   "metadata": {
    "scrolled": true
   },
   "outputs": [
    {
     "name": "stdout",
     "output_type": "stream",
     "text": [
      "Please enter the PDB code of the structure: 101\n"
     ]
    }
   ],
   "source": [
    "#In this block, the user will be prompted to enter the name of the pdb code that they would like to look at.\n",
    "text_box = str(input(\"Please enter the PDB code of the structure: \"))"
   ]
  },
  {
   "cell_type": "code",
   "execution_count": 5,
   "metadata": {},
   "outputs": [
    {
     "name": "stderr",
     "output_type": "stream",
     "text": [
      "WARNING: The default download format has changed from PDB to PDBx/mmCif\n"
     ]
    },
    {
     "name": "stdout",
     "output_type": "stream",
     "text": [
      "Downloading PDB structure '101'...\n",
      "Desired structure doesn't exists\n",
      "i\n",
      "The name of the protein is, 101.cif\n"
     ]
    }
   ],
   "source": [
    "# we minic the folder structure of PDB database and save the pdf file in the corresponding folder.\n",
    "first_pdb_file = PDBList()\n",
    "name = first_pdb_file.retrieve_pdb_file(text_box)\n",
    "protein_file = \"\"\n",
    "last_value = -1\n",
    "print(name[-2])\n",
    "\n",
    "if (platform.system() == 'Windows'):\n",
    "    while (name[last_value] != '\\\\'):\n",
    "        protein_file += name[last_value] #Each of the letters is added to the protein_name string, starting from the last letter.\n",
    "        #The value of last_value (which is supposed to immitate the index) is reduced by one, and since it's negative, the constantly decreasing value goes towards the beginning of the string.\n",
    "        last_value -= 1 \n",
    "\n",
    "else:\n",
    "    while (name[last_value] != '/'):\n",
    "        protein_file += name[last_value] #Each of the letters is added to the protein_name string, starting from the last letter.\n",
    "        #The value of last_value (which is supposed to immitate the index) is reduced by one, and since it's negative, the constantly decreasing value goes towards the beginning of the string.\n",
    "        last_value -= 1 \n",
    "\n",
    "protein_file = protein_file[::-1] #The protein name is reversed, to get a proper pdb file format.\n",
    "\n",
    "protein_name = \"\"\n",
    "\n",
    "index = 0\n",
    "while(protein_file[index] != '.'):\n",
    "    protein_name += protein_file[index]\n",
    "    index += 1\n",
    "\n",
    "protein_name = protein_name.upper()\n",
    "print(\"The name of the protein is, \" + protein_file)"
   ]
  },
  {
   "cell_type": "code",
   "execution_count": 6,
   "metadata": {},
   "outputs": [
    {
     "ename": "FileNotFoundError",
     "evalue": "[Errno 2] No such file or directory: '01/101.cif'",
     "output_type": "error",
     "traceback": [
      "\u001b[0;31m---------------------------------------------------------------------------\u001b[0m",
      "\u001b[0;31mFileNotFoundError\u001b[0m                         Traceback (most recent call last)",
      "\u001b[0;32m/var/folders/xn/_8hvmw8d3tsfm77f_6kvmy180000gn/T/ipykernel_16602/3966894336.py\u001b[0m in \u001b[0;36m<module>\u001b[0;34m\u001b[0m\n\u001b[1;32m      5\u001b[0m \u001b[0;34m\u001b[0m\u001b[0m\n\u001b[1;32m      6\u001b[0m \u001b[0mpath\u001b[0m \u001b[0;34m=\u001b[0m \u001b[0mos\u001b[0m\u001b[0;34m.\u001b[0m\u001b[0mpath\u001b[0m\u001b[0;34m.\u001b[0m\u001b[0mjoin\u001b[0m\u001b[0;34m(\u001b[0m\u001b[0mprotein_class\u001b[0m\u001b[0;34m,\u001b[0m \u001b[0mprotein_file\u001b[0m\u001b[0;34m)\u001b[0m\u001b[0;34m\u001b[0m\u001b[0;34m\u001b[0m\u001b[0m\n\u001b[0;32m----> 7\u001b[0;31m \u001b[0mstructure\u001b[0m \u001b[0;34m=\u001b[0m \u001b[0mparser\u001b[0m\u001b[0;34m.\u001b[0m\u001b[0mget_structure\u001b[0m\u001b[0;34m(\u001b[0m\u001b[0mprotein_name\u001b[0m\u001b[0;34m,\u001b[0m \u001b[0mpath\u001b[0m\u001b[0;34m)\u001b[0m\u001b[0;34m\u001b[0m\u001b[0;34m\u001b[0m\u001b[0m\n\u001b[0m\u001b[1;32m      8\u001b[0m \u001b[0mpath\u001b[0m \u001b[0;34m=\u001b[0m \u001b[0mos\u001b[0m\u001b[0;34m.\u001b[0m\u001b[0mpath\u001b[0m\u001b[0;34m.\u001b[0m\u001b[0mjoin\u001b[0m\u001b[0;34m(\u001b[0m\u001b[0mprotein_class\u001b[0m\u001b[0;34m,\u001b[0m \u001b[0mprotein_file\u001b[0m\u001b[0;34m)\u001b[0m\u001b[0;34m\u001b[0m\u001b[0;34m\u001b[0m\u001b[0m\n\u001b[1;32m      9\u001b[0m \u001b[0mstructure\u001b[0m \u001b[0;34m=\u001b[0m \u001b[0mparser\u001b[0m\u001b[0;34m.\u001b[0m\u001b[0mget_structure\u001b[0m\u001b[0;34m(\u001b[0m\u001b[0mprotein_name\u001b[0m\u001b[0;34m,\u001b[0m \u001b[0mpath\u001b[0m\u001b[0;34m)\u001b[0m\u001b[0;34m\u001b[0m\u001b[0;34m\u001b[0m\u001b[0m\n",
      "\u001b[0;32m/Library/Frameworks/Python.framework/Versions/3.9/lib/python3.9/site-packages/Bio/PDB/MMCIFParser.py\u001b[0m in \u001b[0;36mget_structure\u001b[0;34m(self, structure_id, filename)\u001b[0m\n\u001b[1;32m     59\u001b[0m             \u001b[0;32mif\u001b[0m \u001b[0mself\u001b[0m\u001b[0;34m.\u001b[0m\u001b[0mQUIET\u001b[0m\u001b[0;34m:\u001b[0m\u001b[0;34m\u001b[0m\u001b[0;34m\u001b[0m\u001b[0m\n\u001b[1;32m     60\u001b[0m                 \u001b[0mwarnings\u001b[0m\u001b[0;34m.\u001b[0m\u001b[0mfilterwarnings\u001b[0m\u001b[0;34m(\u001b[0m\u001b[0;34m\"ignore\"\u001b[0m\u001b[0;34m,\u001b[0m \u001b[0mcategory\u001b[0m\u001b[0;34m=\u001b[0m\u001b[0mPDBConstructionWarning\u001b[0m\u001b[0;34m)\u001b[0m\u001b[0;34m\u001b[0m\u001b[0;34m\u001b[0m\u001b[0m\n\u001b[0;32m---> 61\u001b[0;31m             \u001b[0mself\u001b[0m\u001b[0;34m.\u001b[0m\u001b[0m_mmcif_dict\u001b[0m \u001b[0;34m=\u001b[0m \u001b[0mMMCIF2Dict\u001b[0m\u001b[0;34m(\u001b[0m\u001b[0mfilename\u001b[0m\u001b[0;34m)\u001b[0m\u001b[0;34m\u001b[0m\u001b[0;34m\u001b[0m\u001b[0m\n\u001b[0m\u001b[1;32m     62\u001b[0m             \u001b[0mself\u001b[0m\u001b[0;34m.\u001b[0m\u001b[0m_build_structure\u001b[0m\u001b[0;34m(\u001b[0m\u001b[0mstructure_id\u001b[0m\u001b[0;34m)\u001b[0m\u001b[0;34m\u001b[0m\u001b[0;34m\u001b[0m\u001b[0m\n\u001b[1;32m     63\u001b[0m             \u001b[0mself\u001b[0m\u001b[0;34m.\u001b[0m\u001b[0m_structure_builder\u001b[0m\u001b[0;34m.\u001b[0m\u001b[0mset_header\u001b[0m\u001b[0;34m(\u001b[0m\u001b[0mself\u001b[0m\u001b[0;34m.\u001b[0m\u001b[0m_get_header\u001b[0m\u001b[0;34m(\u001b[0m\u001b[0;34m)\u001b[0m\u001b[0;34m)\u001b[0m\u001b[0;34m\u001b[0m\u001b[0;34m\u001b[0m\u001b[0m\n",
      "\u001b[0;32m/Library/Frameworks/Python.framework/Versions/3.9/lib/python3.9/site-packages/Bio/PDB/MMCIF2Dict.py\u001b[0m in \u001b[0;36m__init__\u001b[0;34m(self, filename)\u001b[0m\n\u001b[1;32m     24\u001b[0m         \u001b[0mself\u001b[0m\u001b[0;34m.\u001b[0m\u001b[0mquote_chars\u001b[0m \u001b[0;34m=\u001b[0m \u001b[0;34m[\u001b[0m\u001b[0;34m\"'\"\u001b[0m\u001b[0;34m,\u001b[0m \u001b[0;34m'\"'\u001b[0m\u001b[0;34m]\u001b[0m\u001b[0;34m\u001b[0m\u001b[0;34m\u001b[0m\u001b[0m\n\u001b[1;32m     25\u001b[0m         \u001b[0mself\u001b[0m\u001b[0;34m.\u001b[0m\u001b[0mwhitespace_chars\u001b[0m \u001b[0;34m=\u001b[0m \u001b[0;34m[\u001b[0m\u001b[0;34m\" \"\u001b[0m\u001b[0;34m,\u001b[0m \u001b[0;34m\"\\t\"\u001b[0m\u001b[0;34m]\u001b[0m\u001b[0;34m\u001b[0m\u001b[0;34m\u001b[0m\u001b[0m\n\u001b[0;32m---> 26\u001b[0;31m         \u001b[0;32mwith\u001b[0m \u001b[0mas_handle\u001b[0m\u001b[0;34m(\u001b[0m\u001b[0mfilename\u001b[0m\u001b[0;34m)\u001b[0m \u001b[0;32mas\u001b[0m \u001b[0mhandle\u001b[0m\u001b[0;34m:\u001b[0m\u001b[0;34m\u001b[0m\u001b[0;34m\u001b[0m\u001b[0m\n\u001b[0m\u001b[1;32m     27\u001b[0m             \u001b[0mloop_flag\u001b[0m \u001b[0;34m=\u001b[0m \u001b[0;32mFalse\u001b[0m\u001b[0;34m\u001b[0m\u001b[0;34m\u001b[0m\u001b[0m\n\u001b[1;32m     28\u001b[0m             \u001b[0mkey\u001b[0m \u001b[0;34m=\u001b[0m \u001b[0;32mNone\u001b[0m\u001b[0;34m\u001b[0m\u001b[0;34m\u001b[0m\u001b[0m\n",
      "\u001b[0;32m/Library/Frameworks/Python.framework/Versions/3.9/lib/python3.9/contextlib.py\u001b[0m in \u001b[0;36m__enter__\u001b[0;34m(self)\u001b[0m\n\u001b[1;32m    115\u001b[0m         \u001b[0;32mdel\u001b[0m \u001b[0mself\u001b[0m\u001b[0;34m.\u001b[0m\u001b[0margs\u001b[0m\u001b[0;34m,\u001b[0m \u001b[0mself\u001b[0m\u001b[0;34m.\u001b[0m\u001b[0mkwds\u001b[0m\u001b[0;34m,\u001b[0m \u001b[0mself\u001b[0m\u001b[0;34m.\u001b[0m\u001b[0mfunc\u001b[0m\u001b[0;34m\u001b[0m\u001b[0;34m\u001b[0m\u001b[0m\n\u001b[1;32m    116\u001b[0m         \u001b[0;32mtry\u001b[0m\u001b[0;34m:\u001b[0m\u001b[0;34m\u001b[0m\u001b[0;34m\u001b[0m\u001b[0m\n\u001b[0;32m--> 117\u001b[0;31m             \u001b[0;32mreturn\u001b[0m \u001b[0mnext\u001b[0m\u001b[0;34m(\u001b[0m\u001b[0mself\u001b[0m\u001b[0;34m.\u001b[0m\u001b[0mgen\u001b[0m\u001b[0;34m)\u001b[0m\u001b[0;34m\u001b[0m\u001b[0;34m\u001b[0m\u001b[0m\n\u001b[0m\u001b[1;32m    118\u001b[0m         \u001b[0;32mexcept\u001b[0m \u001b[0mStopIteration\u001b[0m\u001b[0;34m:\u001b[0m\u001b[0;34m\u001b[0m\u001b[0;34m\u001b[0m\u001b[0m\n\u001b[1;32m    119\u001b[0m             \u001b[0;32mraise\u001b[0m \u001b[0mRuntimeError\u001b[0m\u001b[0;34m(\u001b[0m\u001b[0;34m\"generator didn't yield\"\u001b[0m\u001b[0;34m)\u001b[0m \u001b[0;32mfrom\u001b[0m \u001b[0;32mNone\u001b[0m\u001b[0;34m\u001b[0m\u001b[0;34m\u001b[0m\u001b[0m\n",
      "\u001b[0;32m/Library/Frameworks/Python.framework/Versions/3.9/lib/python3.9/site-packages/Bio/File.py\u001b[0m in \u001b[0;36mas_handle\u001b[0;34m(handleish, mode, **kwargs)\u001b[0m\n\u001b[1;32m     70\u001b[0m     \"\"\"\n\u001b[1;32m     71\u001b[0m     \u001b[0;32mtry\u001b[0m\u001b[0;34m:\u001b[0m\u001b[0;34m\u001b[0m\u001b[0;34m\u001b[0m\u001b[0m\n\u001b[0;32m---> 72\u001b[0;31m         \u001b[0;32mwith\u001b[0m \u001b[0mopen\u001b[0m\u001b[0;34m(\u001b[0m\u001b[0mhandleish\u001b[0m\u001b[0;34m,\u001b[0m \u001b[0mmode\u001b[0m\u001b[0;34m,\u001b[0m \u001b[0;34m**\u001b[0m\u001b[0mkwargs\u001b[0m\u001b[0;34m)\u001b[0m \u001b[0;32mas\u001b[0m \u001b[0mfp\u001b[0m\u001b[0;34m:\u001b[0m\u001b[0;34m\u001b[0m\u001b[0;34m\u001b[0m\u001b[0m\n\u001b[0m\u001b[1;32m     73\u001b[0m             \u001b[0;32myield\u001b[0m \u001b[0mfp\u001b[0m\u001b[0;34m\u001b[0m\u001b[0;34m\u001b[0m\u001b[0m\n\u001b[1;32m     74\u001b[0m     \u001b[0;32mexcept\u001b[0m \u001b[0mTypeError\u001b[0m\u001b[0;34m:\u001b[0m\u001b[0;34m\u001b[0m\u001b[0;34m\u001b[0m\u001b[0m\n",
      "\u001b[0;31mFileNotFoundError\u001b[0m: [Errno 2] No such file or directory: '01/101.cif'"
     ]
    }
   ],
   "source": [
    "protein_class = str(protein_file[1]) + str(protein_file[2])\n",
    "\n",
    "#We create an instance of the MMCIF Parser, to load the protein file.\n",
    "parser = MMCIFParser()\n",
    "\n",
    "path = os.path.join(protein_class, protein_file)\n",
    "structure = parser.get_structure(protein_name, path)\n",
    "path = os.path.join(protein_class, protein_file)\n",
    "structure = parser.get_structure(protein_name, path)"
   ]
  },
  {
   "cell_type": "code",
   "execution_count": null,
   "metadata": {},
   "outputs": [],
   "source": [
    "\n",
    "def clean_protein(obj):\n",
    "    print(', '.join([a for a in dir(obj) if not a.startswith('_')]))\n",
    "    \n",
    "clean_protein(structure)"
   ]
  },
  {
   "cell_type": "code",
   "execution_count": null,
   "metadata": {},
   "outputs": [],
   "source": [
    "view_one = nv.show_biopython(structure)\n",
    "view_one"
   ]
  },
  {
   "cell_type": "code",
   "execution_count": null,
   "metadata": {},
   "outputs": [],
   "source": [
    "view_one.render_image()"
   ]
  },
  {
   "cell_type": "code",
   "execution_count": null,
   "metadata": {},
   "outputs": [],
   "source": [
    "view_one._display_image()"
   ]
  },
  {
   "cell_type": "code",
   "execution_count": null,
   "metadata": {},
   "outputs": [],
   "source": [
    "view_two = nv.show_biopython(structure)\n",
    "view_two.add_ball_and_stick()\n",
    "view_two"
   ]
  },
  {
   "cell_type": "code",
   "execution_count": null,
   "metadata": {},
   "outputs": [],
   "source": [
    "# clean up the folder if neccessary\n",
    "os.remove(path) #Removes the file after the user is done looking at the protein.\n",
    "os.rmdir(protein_class)"
   ]
  },
  {
   "cell_type": "code",
   "execution_count": null,
   "metadata": {},
   "outputs": [],
   "source": []
  },
  {
   "cell_type": "markdown",
   "metadata": {},
   "source": [
    "### Notes for Faraz\n",
    "\n",
    "https://docs.google.com/spreadsheets/d/14cIpDAfU4V1t9oN3_GGRJkDfyjBScvCRTUaSK74-1Hs/edit#gid=1005545640"
   ]
  },
  {
   "cell_type": "markdown",
   "metadata": {},
   "source": [
    "### Notes for Ben\n",
    "How to write in Jupyter Notebook\n",
    "https://gtribello.github.io/mathNET/assets/notebook-writing.html\n",
    "\n",
    "To do List:\n",
    "* Refer to Google Sheets doc to navigate Faraz with how to design the end-user portion-- make it somewhat similar to the PyMOL model.\n",
    "* Figure out things we need to write for Ch3-6\n",
    "    * Find key points to implement that can be testable material\n",
    "    * BioPython package already has the PAM matrix and BLOSUM62\n",
    "* NGLView has a widget to add- allows you to zoom in/out-- its in the developers webpage.\n",
    "* "
   ]
  },
  {
   "cell_type": "markdown",
   "metadata": {},
   "source": [
    "# Chapter 2- Databases and Other Resources\n",
    "\n",
    "**After Dr. Tong's lectures, you are now probably familiar with databases. To summarize, databases vary however they consist of very similar traits that will ultimately help you navigate through nucleotide/protein/etc. data to explore properties of a given protein. In regards to literature databases, especially Web of Science, please refer to Leddy Library, mainly Roger Reka to properly structure your search so you can be as accurate as possible.**\n",
    "\n",
    "\n",
    "## Database Resources\n",
    "* NCBI (National Center for Biotechnology Information)- based out of the USA\n",
    "* BLAST (Basic local alignment search tool)- Amino acid sequences of proteins, nucleotides of DNA/RNA sequences\n",
    "* GenBank (Nucleotide & Protein sequences)\n",
    "* Protein structure searches\n",
    "* NCBI Epigenomics database (epigenetics) - ceased operation in 2016\n",
    "* Taxonomy\n",
    "* UniProt (the Universal Protein resource)- based out in Switzerland\n",
    "* UniProt is a collaboration between the Swiss Institute of Bioinformatics(SIB), Protein Information Resource (PIR), and the European Bioinformatics Institute.\n",
    "    * UniProtKB\n",
    "    * UniRef\n",
    "    * UniParc\n",
    "* DDBJ (DNA Data Bank of Japan)\n",
    "* International Nucleotide Sequence Database Collaboration (INSDC)\n",
    "\n",
    "## Literature Resources\n",
    "* PubMed (biomedical literature)\n",
    "* Web of Science\n",
    "* Database that offers scientific literature with an excellent search query.\n",
    "* Interesting Misc. Resources(may not be relevant to this course but may be :\n",
    "* Research Hub \n",
    " \n",
    "If you ever have trouble accessing scientific literature, try inputting it through this website (SciHub). Note: at times, the articles may not contain all of the figures/examples. \n",
    "\n",
    "If you really need an article, please contact your instructor to request access from the author. The instructor has more leverage than a student when emailing another professor. \n",
    "\n",
    "Regarding some key terms, please refer to these below: \n",
    "\n",
    "## Redundant but still Important Terms:\n",
    "\n",
    "**If you do not know these terms, please google/research these to understand them because they are going to be referenced going forward in the notebook.**\n",
    "\n",
    "* p53\n",
    "* UTR (Untranslated region(s))\n",
    "* Coding strand\n",
    "* Template strand\n",
    "* intron\n",
    "* exon\n",
    "\n",
    "## Topics that are new\n",
    "\n",
    "**If you know these terms, great! You are already ahead but please still review before we continue to get into the workbook.**\n",
    "\n",
    "* FASTA Format\n",
    "* RefSeq\n",
    "* Alternative splicing\n",
    "* Protein Data Bank (more specifically on how they retrieve their data in such an accurate method)\n",
    "* MDM2 (hint: it's a ligase)\n",
    "* Li-Fraumeni Syndrome (very specific case but can be used in a UniprotKB exercise)"
   ]
  },
  {
   "cell_type": "markdown",
   "metadata": {},
   "source": [
    "# Chapter 3 Molecular Evolution\n",
    "\n",
    "Over the course of time, we know that mutations occur. To avoid repetition, here are some main concepts to remember while progressing through this chapter(not going to be covered but you should know them by now):\n",
    "\n",
    "* \n",
    "\n",
    "## Some topics to jog your memory:\n",
    "* p53\n",
    "* conserved region(s)\n",
    "* catalytic site"
   ]
  },
  {
   "cell_type": "markdown",
   "metadata": {},
   "source": [
    "# Chapter 4 Protein Basics & Scoring Matrices"
   ]
  },
  {
   "cell_type": "markdown",
   "metadata": {},
   "source": [
    "# Chapter 5 Sequence Alignment"
   ]
  },
  {
   "cell_type": "markdown",
   "metadata": {},
   "source": [
    "# Chapter 6 BLAST"
   ]
  },
  {
   "cell_type": "markdown",
   "metadata": {},
   "source": [
    "# Chapter 7 Protein Structure (basics)"
   ]
  },
  {
   "cell_type": "markdown",
   "metadata": {},
   "source": [
    "# Chapter 8 Molecular Phylogeny"
   ]
  },
  {
   "cell_type": "markdown",
   "metadata": {},
   "source": [
    "# Chapter 9 Genomics"
   ]
  },
  {
   "cell_type": "markdown",
   "metadata": {},
   "source": [
    "# Chapter 10 Gene Expression Analysis & Proteonomics\n"
   ]
  }
 ],
 "metadata": {
  "kernelspec": {
   "display_name": "Python 3 (ipykernel)",
   "language": "python",
   "name": "python3"
  },
  "language_info": {
   "codemirror_mode": {
    "name": "ipython",
    "version": 3
   },
   "file_extension": ".py",
   "mimetype": "text/x-python",
   "name": "python",
   "nbconvert_exporter": "python",
   "pygments_lexer": "ipython3",
   "version": "3.9.6"
  }
 },
 "nbformat": 4,
 "nbformat_minor": 4
}
